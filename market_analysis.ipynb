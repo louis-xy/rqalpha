{
 "cells": [
  {
   "cell_type": "code",
   "execution_count": 4,
   "id": "77afd24c-11a8-4416-8384-28d26c65a971",
   "metadata": {},
   "outputs": [
    {
     "output_type": "display_data",
     "data": {
      "text/plain": "<Figure size 6000x3600 with 0 Axes>"
     },
     "metadata": {}
    }
   ],
   "source": [
    "# !/usr/bin/env python\n",
    "# -*- coding: utf-8 -*-\n",
    "\n",
    "\"\"\"\n",
    "@author: louis\n",
    "@Time: 2021-04-20 11:34\n",
    "\"\"\"\n",
    "\n",
    "# 分析指数近期走势\n",
    "import numpy as np\n",
    "import sys\n",
    "import pandas as pd\n",
    "import datetime as dt\n",
    "import warnings\n",
    "import seaborn as sns\n",
    "from numba import jit, int64, int32\n",
    "from decimal import Decimal, ROUND_HALF_UP\n",
    "\n",
    "import talib\n",
    "import psycopg2 as pg\n",
    "import matplotlib.pyplot as plt\n",
    "import matplotlib.gridspec as gridspec#分割子图\n",
    "import mplfinance as mpf\n",
    "np.seterr(divide='ignore',invalid='ignore') # 忽略warning\n",
    "plt.rcParams['font.sans-serif']=['SimHei'] #用来正常显示中文标签\n",
    "plt.rcParams['axes.unicode_minus']=False #用来正常显示负号\n",
    "\n",
    "fig = plt.figure(figsize=(20,12), dpi=300,facecolor=\"white\") #创建fig对象\n",
    "\n",
    "warnings.filterwarnings('ignore')\n",
    "\n",
    "sys.path.append(\"/Users/louis/Pycharm/rqalpha/\")\n",
    "\n",
    "from rqalpha.data.bar_dict_price_board import BarDictPriceBoard\n",
    "from rqalpha.data.base_data_source import BaseDataSource\n",
    "from rqalpha.data.data_proxy import DataProxy\n",
    "from rqalpha.model.instrument import Instrument\n",
    "\n"
   ]
  },
  {
   "cell_type": "code",
   "execution_count": 5,
   "id": "ad7d45d8-dc7b-4f71-a9fd-af64fb2576c9",
   "metadata": {},
   "outputs": [],
   "source": [
    "#data_proxy = DataProxy(BaseDataSource('/Users/louis/.rqalpha/bundle' ,{}), BarDictPriceBoard)\n",
    "data_proxy = DataProxy(BaseDataSource(\"C:/Users/louis.xu/.rqalpha/bundle\", {}), BarDictPriceBoard)"
   ]
  },
  {
   "cell_type": "code",
   "execution_count": 6,
   "id": "61ce548a-2ffa-45ef-af06-11524122a329",
   "metadata": {},
   "outputs": [],
   "source": [
    "def round_up(number, num_digits):\n",
    "    \"\"\"\n",
    "    按指定位数对数值进行四舍五入。\n",
    "    :param number:要四舍五入的数字。\n",
    "    :param num_digits:要进行四舍五入运算的位数。\n",
    "    :return:返回结果。\n",
    "    \"\"\"\n",
    "    if num_digits > 0:\n",
    "        res = round_up(number * 10, num_digits - 1) / 10\n",
    "    else:\n",
    "        res = Decimal(number * 10 ** num_digits).quantize(Decimal('1'), rounding=ROUND_HALF_UP) * 10 ** -num_digits\n",
    "    return res"
   ]
  },
  {
   "cell_type": "code",
   "execution_count": 21,
   "id": "39531478-531c-4dce-9df3-939a9bc00d04",
   "metadata": {},
   "outputs": [],
   "source": [
    "def round_up(number, num_digits):\n",
    "    \"\"\"\n",
    "    按指定位数对数值进行四舍五入。\n",
    "    :param number:要四舍五入的数字。\n",
    "    :param num_digits:要进行四舍五入运算的位数。\n",
    "    :return:返回结果。\n",
    "    \"\"\"\n",
    "    if num_digits > 0:\n",
    "        res = round_up(number * 10, num_digits - 1) / 10\n",
    "    else:\n",
    "        res = Decimal(number * 10 ** num_digits).quantize(Decimal('1'), rounding=ROUND_HALF_UP) * 10 ** -num_digits\n",
    "    return res\n",
    "\n",
    "\n",
    "class MarketView(object):\n",
    "    \n",
    "    def __init__(self, data_proxy):\n",
    "        self.data_proxy = data_proxy\n",
    "        pass\n",
    "    \n",
    "    @staticmethod\n",
    "    def colors():\n",
    "        colors = ['#FFFFCC', '#99FF99', '#66FFFF', '#3333FF', '#FF00FF', '#333333', '#FFFF99', '#66FF66', '#33FFFF',\n",
    "                  '#0000FF', '#FF00CC', '#666666', '#FFFF66', '#33FF33', '#00FFFF', '#3300FF', '#CC0099', '#999999',\n",
    "                  '#FFFF33', '#00FF00', '#00CCFF', '#3300CC', '#FF33CC', '#CCCCCC', '#FFFF00', '#00FF33', '#0099CC',\n",
    "                  '#6633FF', '#990066', '#FFFFFF', '#CCFF00', '#00CC33', '#33CCFF', '#330099', '#CC3399', '#FF3300',\n",
    "                  '#99CC00', '#33FF66', '#006699', '#6633CC', '#FF66CC', '#CC3300', '#CCFF33', '#009933', '#3399CC',\n",
    "                  '#9966FF', '#FF0099', '#FF6633', '#669900', '#33CC66', '#66CCFF', '#6600FF', '#660033', '#993300',\n",
    "                  '#99CC33', '#66FF99', '#0099FF', '#330066', '#993366', '#CC6633', '#CCFF66', '#00FF66', '#003366',\n",
    "                  '#663399', '#CC6699', '#FF9966', '#99FF00', '#006633', '#336699', '#9966CC', '#CC0066', '#FF6600',\n",
    "                  '#336600', '#339966', '#6699CC', '#6600CC', '#FF99CC', '#663300', '#669933', '#66CC99', '#0066CC',\n",
    "                  '#CC99FF', '#FF3399', '#996633', '#99CC66', '#00CC66', '#99CCFF', '#9933FF', '#FF0066', '#CC9966',\n",
    "                  '#66CC00', '#99FFCC', '#3399FF', '#9900FF', '#990033', '#CC6600', '#CCFF99', '#33FF99', '#0066FF',\n",
    "                  '#660099', '#CC3366', '#FFCC99', '#99FF33', '#00FF99', '#003399', '#9933CC', '#FF6699', '#FF9933',\n",
    "                  '#66FF00', '#009966', '#3366CC', '#CC66FF', '#CC0033', '#FF9900', '#339900', '#33CC99', '#6699FF',\n",
    "                  '#9900CC', '#FF3366', '#996600', '#66CC33', '#66FFCC', '#0033CC', '#CC33FF', '#FF0033', '#CC9933',\n",
    "                  '#99FF66', '#00CC99', '#3366FF', '#CC00FF', '#330000', '#FFCC66', '#33CC00', '#33FFCC', '#0033FF',\n",
    "                  '#330033', '#663333', '#CC9900', '#66FF33', '#00FFCC', '#000033', '#663366', '#660000', '#FFCC33',\n",
    "                  '#33FF00', '#003333', '#333366', '#660066', '#996666', '#FFCC00', '#003300', '#336666', '#000066',\n",
    "                  '#996699', '#993333', '#333300', '#336633', '#006666', '#666699', '#993399', '#990000', '#666633',\n",
    "                  '#006600', '#669999', '#333399', '#990099', '#CC9999', '#666600', '#669966', '#339999', '#000099',\n",
    "                  '#CC99CC', '#CC6666', '#999966', '#339933', '#009999', '#9999CC', '#CC66CC', '#CC3333', '#999933',\n",
    "                  '#009900', '#99CCCC', '#6666CC', '#CC33CC', '#CC0000', '#999900', '#99CC99', '#66CCCC', '#3333CC',\n",
    "                  '#CC00CC', '#FFCCCC', '#CCCC99', '#66CC66', '#33CCCC', '#0000CC', '#FFCCFF', '#FF9999', '#CCCC66',\n",
    "                  '#33CC33', '#00CCCC', '#CCCCFF', '#FF99FF', '#FF6666', '#CCCC33', '#00CC00', '#CCFFFF', '#9999FF',\n",
    "                  '#FF66FF', '#FF3333', '#CCCC00', '#CCFFCC', '#99FFFF', '#6666FF', '#FF33FF', '#FF0000']\n",
    "        return colors\n",
    "    \n",
    "    @staticmethod\n",
    "    def panel_data(date=dt.datetime.now(), count=120, stock_min_list_days=180):\n",
    "        \"\"\"返回数据panel\"\"\"\n",
    "        instruments = data_proxy.all_instruments([\"CS\"])[:10]\n",
    "        instrs = [instrument for instrument in instruments if instrument.listed_date < (\n",
    "                    date - dt.timedelta(days=stock_min_list_days)) and instrument.status == 'Active'\n",
    "                  and instrument.board_type == 'MainBoard']\n",
    "    \n",
    "        datas = []\n",
    "        for ins in instrs:\n",
    "            print(ins.order_book_id)\n",
    "            data = data_proxy.history_bars(ins.order_book_id, dt=date, bar_count=count, frequency='1d',\n",
    "                                                        field=['datetime', 'open', 'high', 'low', 'close', 'limit_up', 'limit_down',\n",
    "                                                               'volume', 'total_turnover'])\n",
    "            datas.append(data)\n",
    "        panel = np.vstack(tuple(datas))\n",
    "        cols = [name.order_book_id for name in instrs]\n",
    "        return cols, panel\n",
    "    \n",
    "    \n",
    "    @staticmethod\n",
    "    def index_change(date=dt.datetime.now()):\n",
    "        zhishu_list = ['000001.XSHG', '000016.XSHG', '000300.XSHG', '000905.XSHG', '399001.XSHE', '399005.XSHE',\n",
    "                       '399006.XSHE']\n",
    "        #panel = get_price(zhishu_list, end_date=date, count=11, fields=['close', 'volume', 'money'])\n",
    "        datas = []\n",
    "        for order_book_id in zhishu_list:\n",
    "            data = data_proxy.history_bars(order_book_id, dt=date, bar_count=11, frequency='1d',\n",
    "                                           field=['close', 'volume', 'total_turnover'])\n",
    "            \n",
    "            datas.append(data)\n",
    "        panel = np.vstack(tuple(datas))\n",
    "        \n",
    "        s_close = panel['close'][:,-1]\n",
    "        s_return1 = ((panel['close'][:,-1] / panel['close'][:,-2]) - 1) * 100\n",
    "        s_return3 = ((panel['close'][:,-1] / panel['close'][:,-4]) - 1) * 100\n",
    "        s_return5 = ((panel['close'][:,-1] / panel['close'][:,-6]) - 1) * 100\n",
    "        s_volume = ((panel['volume'][:,-1] / panel['volume'][:,-2]) - 1) * 100\n",
    "        s_volume3 = ((panel['volume'][:,-3:].sum(axis=1) / panel['volume'][:,-6:-3].sum(axis=1)) - 1) * 100\n",
    "        s_volume5 = ((panel['volume'][:,-5:].sum(axis=1) / panel['volume'][:,-10:-5].sum(axis=1)) - 1) * 100\n",
    "        s_money = ((panel['total_turnover'][:,-1] / panel['total_turnover'][:,-2]) - 1) * 100\n",
    "        s_money3 = ((panel['total_turnover'][:,-3:].sum(axis=1) / panel['total_turnover'][:,-6:-3].sum(axis=1)) - 1) * 100\n",
    "        s_money5 = ((panel['total_turnover'][:,-5:].sum(axis=1) / panel['total_turnover'][:,-10:-5].sum(axis=1)) - 1) * 100\n",
    "        \n",
    "        tt = pd.DataFrame({'指数值':s_close.tolist(), '涨跌幅%':s_return1.tolist()})\n",
    "        df = pd.DataFrame(data={'指数值': s_close.tolist(), '涨跌幅%': s_return1.tolist(), '3日涨跌%': s_return3.tolist(), '5日涨跌%': s_return5.tolist(),\n",
    "                           '1日量变%': s_volume.tolist(), '3日量变%': s_volume3.tolist(), '5日量变%': s_volume5.tolist(), '1日额变%': s_money.tolist(),\n",
    "                           '3日额变%': s_money3.tolist(), '5日额变%': s_money5.tolist()}, index=zhishu_list)\n",
    "        \n",
    "        df.index = ['上证指数', '上证50', '沪深300', '中证500', '深成指', '中小板指', '创业板指']\n",
    "        df = df.round(2)\n",
    "        cm = sns.light_palette(\"green\", as_cmap=True)\n",
    "        return df.style.background_gradient(cmap=cm,\n",
    "                                            subset=['涨跌幅%', '3日涨跌%', '5日涨跌%', '1日量变%', '3日量变%', '5日量变%', '1日额变%',\n",
    "                                                    '3日额变%', '5日额变%']).set_caption(\n",
    "            \"{date}指数变化\".format(date=date.strftime('%Y-%m-%d')))\n",
    "    \n",
    "    @staticmethod\n",
    "    def high_limit_stat(panel, count=14):\n",
    "        \"\"\"\n",
    "        涨停统计\n",
    "        \"\"\"\n",
    "        ss = panel['close']\n",
    "        df_pre_close = pd.DataFrame(panel['close']).shift(axis=1)\n",
    "        \n",
    "        s_zt = (panel['close'] == panel['limit_up']).sum(axis=0)\n",
    "        s_zb = ((panel['high'] == panel['limit_up']) & (\n",
    "            (panel['close'] < panel['limit_up']))).sum(axis=0)\n",
    "        s_up7p = (panel['close'] > df_pre_close * 1.07).sum(axis=0)\n",
    "        s_up57 = ((panel['close'] > df_pre_close * 1.05) & (\n",
    "                panel['close'] <= df_pre_close * 1.07)).sum(axis=0)\n",
    "        s_up35 = ((panel['close'] > df_pre_close * 1.03) & (\n",
    "                panel['close'] <= df_pre_close * 1.05)).sum(axis=0)\n",
    "        s_up03 = ((panel['close'] > df_pre_close * 1.00) & (\n",
    "                panel['close'] <= df_pre_close * 1.03)).sum(axis=0)\n",
    "        s_dn03 = ((panel['close'] <= df_pre_close * 1.00) & (\n",
    "                panel['close'] >= df_pre_close * 0.97)).sum(axis=0)\n",
    "        s_dn35 = ((panel['close'] < df_pre_close * 0.97) & (\n",
    "                panel['close'] <= df_pre_close * 0.95)).sum(axis=0)\n",
    "        s_dn57 = ((panel['close'] < df_pre_close * 0.95) & (\n",
    "                panel['close'] <= df_pre_close * 0.93)).sum(axis=0)\n",
    "        s_dn7p = ((panel['close'] < df_pre_close * 0.93) & (\n",
    "                panel['close'] > df_pre_close * 0.90)).sum(axis=0)\n",
    "        s_dt = (panel['low'] == panel['limit_down']).sum(axis=0)\n",
    "        df = pd.DataFrame({'涨停': s_zt.tolist(),\n",
    "                           '+7-10': s_up7p.tolist(), '+5-7': s_up57.tolist(), '+3-5': s_up35.tolist(), '+0-3': s_up03.tolist(),\n",
    "                           '-0-3': s_dn03.tolist(), '-3-5': s_dn35.tolist(), '-5-7': s_dn57.tolist(), '-7-10': s_dn7p.tolist(), '跌停': s_dt.tolist(),\n",
    "                           '炸板': s_zb.tolist()}, index=panel['datetime'][0,:].tolist())\n",
    "        df = df.sort_index(ascending=False)\n",
    "        df1 = df.iloc[:count]\n",
    "        start_date = dt.datetime.strptime(str(df1.index[-1]), '%Y%m%d%H%M%S')\n",
    "        end_date = dt.datetime.strptime(str(df1.index[0]), '%Y%m%d%H%M%S')\n",
    "        df1.index = [dt.datetime.strptime(str(d), '%Y%m%d%H%M%S').strftime(\"%Y-%m-%d\") for d in df1.index]\n",
    "        cm = sns.light_palette(\"green\", as_cmap=True)\n",
    "        return df1.style.background_gradient(cmap=cm, axis=1).\\\n",
    "            set_caption(\n",
    "            \"{start}到{end}市场热度变化\".format(start=start_date.strftime(\"%Y-%m-%d\"), end=end_date.strftime(\"%Y-%m-%d\")))\n",
    "\n",
    "    \n",
    "    @staticmethod\n",
    "    def lianban(arr):\n",
    "        \"\"\"连板数统计 arr值含义 0没有涨停/1涨停/2停牌\"\"\"\n",
    "        ret = np.zeros((arr.shape[0], arr.shape[1]), np.int32)\n",
    "        for row in np.arange(1, arr.shape[0]):\n",
    "            for col in np.arange(0, arr.shape[1]):\n",
    "                if arr[row, col] == 1 and arr[row - 1, col] == 0:  # 首板\n",
    "                    ret[row, col] = 1\n",
    "                elif arr[row, col] == 1 and arr[row - 1, col] == 1:  # 连板\n",
    "                    ret[row, col] = ret[row - 1, col] + 1\n",
    "                elif arr[row, col] == 1 and arr[row - 1, col] == -1:  # 前一日停牌,如果是涨停停牌,累加停牌前涨停数\n",
    "                    i = row - 1\n",
    "                    while arr[i, col] == -1:\n",
    "                        i = i - 1\n",
    "                    if arr[i, col] == 1:\n",
    "                        ret[row, col] = ret[i, col] + 1\n",
    "        return ret\n",
    "    \n",
    "    @staticmethod\n",
    "    def high_limit_record(panel, cols, filter_st=False):\n",
    "        \"\"\"日期，股票代码，第几个涨停 \"\"\"\n",
    "        # 涨停\n",
    "        # arr_up = ((panel['close'].values == panel['high_limit'].values) & (panel['paused'].values == 0)).astype(int)\n",
    "        arr_up = (panel['close'] == panel['limit_up']).astype(int)\n",
    "        # ST股票涨跌停5%\n",
    "        st = panel['close'][:,(panel['limit_up'] < panel['limit_down'] * 1.2).any(axis=0)]\n",
    "        # 构建二维数组，1代表涨停，-1代表停牌，0 代表其他\n",
    "        #arr_paused = np.where(panel['paused'] > 0, -1, 0)\n",
    "        #arr_cb = np.where(arr_up > 0, arr_up, arr_paused)\n",
    "        # 涨停累加DataFrame\n",
    "        df = pd.DataFrame(MarketView.lianban(arr_up), index=cols, columns=panel['datetime'][0,:])\n",
    "        if filter_st:\n",
    "            st_columns = panel['close'].columns[\n",
    "                (panel['limit_up'] < panel['limit_down'] * 1.2).any(axis=0)]\n",
    "            df = df[list(set(list(df.columns)).difference(set(list(st_columns))))]\n",
    "        # 过滤涨停记录->日期，股票代码，第几个涨停\n",
    "        df1 = df.reset_index().melt(id_vars='index')\n",
    "        df2 = df1[df1['value'] > 0]\n",
    "        return df2\n",
    "    \n",
    "    @staticmethod\n",
    "    def 板块热度(df_category, panel, return_filter=0.05):\n",
    "        \"\"\"支持股票和类别 多对多关系，格式:股票代码,类别 \"\"\"\n",
    "        # df_cat=df_category[df_category.iloc[:,0].isin(list(panel['close'].columns))]\n",
    "        arr_relation = df_category.values\n",
    "        code_sorted = np.sort(np.unique(arr_relation[:, 0]))\n",
    "        category_sorted = np.sort(np.unique(arr_relation[:, 1]))\n",
    "        \n",
    "        code_idx = np.searchsorted(code_sorted, arr_relation[:, 0])\n",
    "        category_idx = np.searchsorted(category_sorted, arr_relation[:, 1])\n",
    "        # 多对多关系矩阵\n",
    "        relation_metrix = np.zeros((code_sorted.shape[0], category_sorted.shape[0]), np.int32)\n",
    "        for i in np.arange(0, arr_relation.shape[0]):\n",
    "            relation_metrix[code_idx[i], category_idx[i]] = 1\n",
    "        arr1 = (panel['close'][code_sorted].values > panel['pre_close'][code_sorted].values * (\n",
    "                1 + return_filter)).astype(int)\n",
    "        # 结果矩阵 (股票热度数组*股票类别矩阵) ->按类别加总->类别热度\n",
    "        ret_cat = np.zeros((arr1.shape[0], category_sorted.shape[0]), np.int32)\n",
    "        for i in np.arange(0, arr1.shape[0]):\n",
    "            ret_cat[i] = (arr1[i:i + 1, :].T * relation_metrix).sum(axis=0)\n",
    "        df = pd.DataFrame(ret_cat, columns=category_sorted, index=panel['close'].index)\n",
    "        return df\n",
    "    \n",
    "    @staticmethod\n",
    "    def 每日热点(df_hot, topN=5):\n",
    "        \"\"\"展示每日热度排行\"\"\"\n",
    "        df1 = df_hot.reset_index().melt(id_vars='index').groupby('index').apply(\n",
    "            lambda dx: dx.nlargest(topN, 'value')).reset_index(drop=True)\n",
    "        \n",
    "        def add_rank(dx):\n",
    "            dx['rank'] = dx['value'].rank(ascending=False, method='first').astype(int)\n",
    "            return dx\n",
    "        \n",
    "        df2 = df1.groupby('index').apply(add_rank)\n",
    "        df2['val'] = df2['variable'] + \":\" + df2['value'].astype(str)\n",
    "        df3 = df2.drop_duplicates(subset=['index', 'rank']).pivot(index='index', columns='rank', values='val').iloc[\n",
    "              ::-1]\n",
    "        df3.index = df3.index.date\n",
    "        sorted_cat = np.sort(np.unique([cat.split(\":\")[0] for cat in df3.values.reshape(df3.shape[0] * df3.shape[1])]))\n",
    "        \n",
    "        def highlight_vals(val, color='green'):\n",
    "            return 'background-color: %s' % MarketView.colors()[np.searchsorted(sorted_cat, val.split(\":\")[0])] + \"70\"\n",
    "        \n",
    "        return df3.style.applymap(highlight_vals).set_caption('每日热度排行')\n",
    "    \n",
    "    @staticmethod\n",
    "    def 连板数统计(df_up_limit, count=50):\n",
    "        \"\"\"涨停数统计矩阵\"\"\"\n",
    "        # 日期，股票代码，涨停数 -> 日期(行)，涨停数(列)，股票数量(值)\n",
    "        df3 = df_up_limit.groupby(['index', 'value']).count().reset_index()\n",
    "        df4 = df3.pivot(index='index', columns='value', values='variable')\n",
    "        \n",
    "        df5 = df4.sort_index(ascending=False).iloc[:count]\n",
    "        cm = sns.light_palette(\"green\", as_cmap=True)\n",
    "        df5.index = df5.index.date\n",
    "        return df5.fillna(0).style.background_gradient(cmap=cm, axis=0).set_caption(\"连板数统计\")\n",
    "\n",
    "    @staticmethod\n",
    "    def kline(order_book_id, date = None):\n",
    "        name = data_proxy.instruments(order_book_id).symbol\n",
    "        gs = gridspec.GridSpec(4, 1, left=0.08, bottom=0.15, right=0.99, top=0.96, wspace=None, hspace=0, height_ratios=[3.5,1,1,1])\n",
    "        graph_KAV = fig.add_subplot(gs[0,:])\n",
    "        graph_VOL = fig.add_subplot(gs[1,:])\n",
    "        graph_MACD = fig.add_subplot(gs[2,:])\n",
    "        graph_KDJ = fig.add_subplot(gs[3,:])\n",
    "\n",
    "        date = dt.datetime.now() if not date else date\n",
    "        narray = data_proxy.history_bars(order_book_id, dt=date, bar_count=300, frequency='1d',\n",
    "                                           field=['datetime', 'open','close','high', 'low', 'volume', 'total_turnover'])\n",
    "        df = pd.DataFrame(narray)\n",
    "        df['date'] = df.datetime.apply(lambda x:str(x)[:8])\n",
    "        df=df.set_index('trade_date')\n",
    "        #绘制K线图\n",
    "        mpf.candlestick2_ochl(graph_KAV, df.open, df.close, df.high, df.low, width=0.5,\n",
    "                      colorup='r', colordown='g')  # 绘制K线走势\n",
    "\n",
    "        #绘制移动平均线图\n",
    "        df['Ma5'] = df.close.rolling(window=5).mean()#pd.rolling_mean(df_stockload.close,window=20)\n",
    "        df['Ma10'] = df.close.rolling(window=10).mean()#pd.rolling_mean(df_stockload.close,window=30)\n",
    "        df['Ma20'] = df.close.rolling(window=20).mean()#pd.rolling_mean(df_stockload.close,window=60)\n",
    "        df['Ma30'] = df.close.rolling(window=30).mean()#pd.rolling_mean(df_stockload.close,window=60)\n",
    "        df['Ma60'] = df.close.rolling(window=60).mean()#pd.rolling_mean(df_stockload.close,window=60)\n",
    "\n",
    "        graph_KAV.plot(np.arange(0, len(df.index)), df['Ma5'],'black', label='M5',lw=1.0)\n",
    "        graph_KAV.plot(np.arange(0, len(df.index)), df['Ma10'],'green',label='M10', lw=1.0)\n",
    "        graph_KAV.plot(np.arange(0, len(df.index)), df['Ma20'],'blue',label='M20', lw=1.0)\n",
    "        graph_KAV.plot(np.arange(0, len(df.index)), df['Ma30'],'pink', label='M30',lw=1.0)\n",
    "        graph_KAV.plot(np.arange(0, len(df.index)), df['Ma60'],'yellow',label='M60', lw=1.0)\n",
    "\n",
    "        # 添加网格\n",
    "        graph_KAV.grid()\n",
    "\n",
    "        graph_KAV.legend(loc='best')\n",
    "        graph_KAV.set_title(order_book_id + ' ' + name)\n",
    "        graph_KAV.set_ylabel(u\"价格\")\n",
    "        graph_KAV.set_xlim(0, len(df.index))  # 设置一下x轴的范围\n",
    "\n",
    "        #绘制MACD\n",
    "        macd_dif, macd_dea, macd_bar = talib.MACD(df['close'].values, fastperiod=12, slowperiod=26, signalperiod=9)\n",
    "        graph_MACD.plot(np.arange(0, len(df.index)), macd_dif, 'red', label='macd dif')  # dif\n",
    "        graph_MACD.plot(np.arange(0, len(df.index)), macd_dea, 'blue', label='macd dea')  # dea\n",
    "\n",
    "        bar_red = np.where(macd_bar > 0, 2 * macd_bar, 0)# 绘制BAR>0 柱状图\n",
    "        bar_green = np.where(macd_bar < 0, 2 * macd_bar, 0)# 绘制BAR<0 柱状图\n",
    "        graph_MACD.bar(np.arange(0, len(df.index)), bar_red, facecolor='red')\n",
    "        graph_MACD.bar(np.arange(0, len(df.index)), bar_green, facecolor='green')\n",
    "\n",
    "        graph_MACD.legend(loc='best',shadow=True, fontsize ='10')\n",
    "        graph_MACD.set_ylabel(\"MACD\")\n",
    "        graph_MACD.set_xlim(0,len(df.index)) #设置一下x轴的范围\n",
    "        graph_MACD.set_xticks(range(0,len(df.index),15))#X轴刻度设定 每15天标一个日期\n",
    "\n",
    "        #绘制KDJ\n",
    "        df['K'], df['D'] = talib.STOCH(df.high.values, df.low.values, df.close.values,\\\n",
    "                                               fastk_period=9, slowk_period=3, slowk_matype=0, slowd_period=3, slowd_matype=0)\n",
    "\n",
    "        df['J'] = 3 * df['K'] - 2 * df['D']\n",
    "\n",
    "        graph_KDJ.plot(np.arange(0, len(df.index)), df['K'], 'blue', label='K')  # K\n",
    "        graph_KDJ.plot(np.arange(0, len(df.index)), df['D'], 'g--', label='D')  # D\n",
    "        graph_KDJ.plot(np.arange(0, len(df.index)), df['J'], 'r-', label='J')  # J\n",
    "        graph_KDJ.legend(loc='best', shadow=True, fontsize='10')\n",
    "\n",
    "        graph_KDJ.set_ylabel(u\"KDJ\")\n",
    "        graph_KDJ.set_xlabel(\"日期\")\n",
    "        graph_KDJ.set_xlim(0, len(df.index))  # 设置一下x轴的范围\n",
    "        graph_KDJ.set_xticks(range(0, len(df.index), 15))  # X轴刻度设定 每15天标一个日期\n",
    "        graph_KDJ.set_xticklabels(\n",
    "            [df.index.strftime('%Y-%m-%d')[index] for index in graph_KDJ.get_xticks()])  # 标签设置为日期\n",
    "\n",
    "        # X-轴每个ticker标签都向右倾斜45度\n",
    "        for label in graph_KAV.xaxis.get_ticklabels():\n",
    "            label.set_visible(False)\n",
    "\n",
    "        for label in graph_VOL.xaxis.get_ticklabels():\n",
    "            label.set_visible(False)\n",
    "\n",
    "        for label in graph_MACD.xaxis.get_ticklabels():\n",
    "            label.set_visible(False)\n",
    "\n",
    "        for label in graph_KDJ.xaxis.get_ticklabels():\n",
    "            label.set_rotation(45)\n",
    "            label.set_fontsize(10)  # 设置标签字体\n",
    "        plt.show()\n"
   ]
  },
  {
   "cell_type": "code",
   "execution_count": 8,
   "id": "ea00aa89-86b4-4ce2-9b0c-947d8ae6169b",
   "metadata": {},
   "outputs": [
    {
     "output_type": "stream",
     "name": "stdout",
     "text": [
      "000001.XSHE\n000002.XSHE\n000004.XSHE\n000005.XSHE\n000006.XSHE\n000007.XSHE\n000008.XSHE\n000009.XSHE\n000010.XSHE\n"
     ]
    },
    {
     "output_type": "execute_result",
     "data": {
      "text/plain": [
       "['000001.XSHE',\n",
       " '000002.XSHE',\n",
       " '000004.XSHE',\n",
       " '000005.XSHE',\n",
       " '000006.XSHE',\n",
       " '000007.XSHE',\n",
       " '000008.XSHE',\n",
       " '000009.XSHE',\n",
       " '000010.XSHE']"
      ]
     },
     "metadata": {},
     "execution_count": 8
    }
   ],
   "source": [
    "cols, data = MarketView.panel_data()\n",
    "cols"
   ]
  },
  {
   "cell_type": "code",
   "execution_count": 9,
   "id": "141adfec-fdd9-4cd2-8b8b-1d863b62018a",
   "metadata": {},
   "outputs": [
    {
     "output_type": "execute_result",
     "data": {
      "text/plain": [
       "<pandas.io.formats.style.Styler at 0x1897d066ac0>"
      ],
      "text/html": "<style  type=\"text/css\" >\n#T_f0b47_row0_col1,#T_f0b47_row4_col1{\n            background-color:  #6db56d;\n            color:  #000000;\n        }#T_f0b47_row0_col2{\n            background-color:  #a3d0a3;\n            color:  #000000;\n        }#T_f0b47_row0_col3{\n            background-color:  #7bbc7b;\n            color:  #000000;\n        }#T_f0b47_row0_col4{\n            background-color:  #2c962c;\n            color:  #000000;\n        }#T_f0b47_row0_col5{\n            background-color:  #018001;\n            color:  #f1f1f1;\n        }#T_f0b47_row0_col6{\n            background-color:  #9dcd9d;\n            color:  #000000;\n        }#T_f0b47_row0_col7{\n            background-color:  #118911;\n            color:  #f1f1f1;\n        }#T_f0b47_row0_col8{\n            background-color:  #3f9f3f;\n            color:  #000000;\n        }#T_f0b47_row0_col9,#T_f0b47_row1_col7,#T_f0b47_row3_col4,#T_f0b47_row3_col5,#T_f0b47_row5_col1,#T_f0b47_row5_col6,#T_f0b47_row6_col2,#T_f0b47_row6_col3,#T_f0b47_row6_col8{\n            background-color:  #008000;\n            color:  #f1f1f1;\n        }#T_f0b47_row1_col1{\n            background-color:  #a6d2a6;\n            color:  #000000;\n        }#T_f0b47_row1_col2,#T_f0b47_row1_col3,#T_f0b47_row1_col5,#T_f0b47_row1_col8,#T_f0b47_row2_col9,#T_f0b47_row3_col6,#T_f0b47_row6_col1,#T_f0b47_row6_col4,#T_f0b47_row6_col7{\n            background-color:  #ebf3eb;\n            color:  #000000;\n        }#T_f0b47_row1_col4{\n            background-color:  #259225;\n            color:  #000000;\n        }#T_f0b47_row1_col6{\n            background-color:  #c9e2c8;\n            color:  #000000;\n        }#T_f0b47_row1_col9{\n            background-color:  #92c892;\n            color:  #000000;\n        }#T_f0b47_row2_col1{\n            background-color:  #7ebe7e;\n            color:  #000000;\n        }#T_f0b47_row2_col2{\n            background-color:  #c4e0c4;\n            color:  #000000;\n        }#T_f0b47_row2_col3{\n            background-color:  #d5e9d5;\n            color:  #000000;\n        }#T_f0b47_row2_col4{\n            background-color:  #8dc58d;\n            color:  #000000;\n        }#T_f0b47_row2_col5{\n            background-color:  #76ba76;\n            color:  #000000;\n        }#T_f0b47_row2_col6,#T_f0b47_row4_col9{\n            background-color:  #91c791;\n            color:  #000000;\n        }#T_f0b47_row2_col7{\n            background-color:  #4ca54c;\n            color:  #000000;\n        }#T_f0b47_row2_col8{\n            background-color:  #88c388;\n            color:  #000000;\n        }#T_f0b47_row3_col1{\n            background-color:  #84c184;\n            color:  #000000;\n        }#T_f0b47_row3_col2,#T_f0b47_row6_col6{\n            background-color:  #83c083;\n            color:  #000000;\n        }#T_f0b47_row3_col3{\n            background-color:  #349a34;\n            color:  #000000;\n        }#T_f0b47_row3_col7{\n            background-color:  #138913;\n            color:  #f1f1f1;\n        }#T_f0b47_row3_col8{\n            background-color:  #038103;\n            color:  #f1f1f1;\n        }#T_f0b47_row3_col9{\n            background-color:  #71b771;\n            color:  #000000;\n        }#T_f0b47_row4_col2,#T_f0b47_row5_col3{\n            background-color:  #78bb78;\n            color:  #000000;\n        }#T_f0b47_row4_col3{\n            background-color:  #74b974;\n            color:  #000000;\n        }#T_f0b47_row4_col4{\n            background-color:  #51a851;\n            color:  #000000;\n        }#T_f0b47_row4_col5{\n            background-color:  #1c8e1c;\n            color:  #000000;\n        }#T_f0b47_row4_col6{\n            background-color:  #75b975;\n            color:  #000000;\n        }#T_f0b47_row4_col7{\n            background-color:  #56aa56;\n            color:  #000000;\n        }#T_f0b47_row4_col8{\n            background-color:  #1f8f1f;\n            color:  #000000;\n        }#T_f0b47_row5_col2{\n            background-color:  #66b266;\n            color:  #000000;\n        }#T_f0b47_row5_col4{\n            background-color:  #41a041;\n            color:  #000000;\n        }#T_f0b47_row5_col5{\n            background-color:  #4ba54b;\n            color:  #000000;\n        }#T_f0b47_row5_col7{\n            background-color:  #028102;\n            color:  #f1f1f1;\n        }#T_f0b47_row5_col8{\n            background-color:  #158a15;\n            color:  #000000;\n        }#T_f0b47_row5_col9{\n            background-color:  #b2d7b1;\n            color:  #000000;\n        }#T_f0b47_row6_col5{\n            background-color:  #249224;\n            color:  #000000;\n        }#T_f0b47_row6_col9{\n            background-color:  #d2e7d2;\n            color:  #000000;\n        }</style><table id=\"T_f0b47_\" ><caption>2021-06-18指数变化</caption><thead>    <tr>        <th class=\"blank level0\" ></th>        <th class=\"col_heading level0 col0\" >指数值</th>        <th class=\"col_heading level0 col1\" >涨跌幅%</th>        <th class=\"col_heading level0 col2\" >3日涨跌%</th>        <th class=\"col_heading level0 col3\" >5日涨跌%</th>        <th class=\"col_heading level0 col4\" >1日量变%</th>        <th class=\"col_heading level0 col5\" >3日量变%</th>        <th class=\"col_heading level0 col6\" >5日量变%</th>        <th class=\"col_heading level0 col7\" >1日额变%</th>        <th class=\"col_heading level0 col8\" >3日额变%</th>        <th class=\"col_heading level0 col9\" >5日额变%</th>    </tr></thead><tbody>\n                <tr>\n                        <th id=\"T_f0b47_level0_row0\" class=\"row_heading level0 row0\" >上证指数</th>\n                        <td id=\"T_f0b47_row0_col0\" class=\"data row0 col0\" >3624.710000</td>\n                        <td id=\"T_f0b47_row0_col1\" class=\"data row0 col1\" >0.260000</td>\n                        <td id=\"T_f0b47_row0_col2\" class=\"data row0 col2\" >0.440000</td>\n                        <td id=\"T_f0b47_row0_col3\" class=\"data row0 col3\" >1.210000</td>\n                        <td id=\"T_f0b47_row0_col4\" class=\"data row0 col4\" >6.420000</td>\n                        <td id=\"T_f0b47_row0_col5\" class=\"data row0 col5\" >4.110000</td>\n                        <td id=\"T_f0b47_row0_col6\" class=\"data row0 col6\" >10.940000</td>\n                        <td id=\"T_f0b47_row0_col7\" class=\"data row0 col7\" >4.890000</td>\n                        <td id=\"T_f0b47_row0_col8\" class=\"data row0 col8\" >1.230000</td>\n                        <td id=\"T_f0b47_row0_col9\" class=\"data row0 col9\" >16.680000</td>\n            </tr>\n            <tr>\n                        <th id=\"T_f0b47_level0_row1\" class=\"row_heading level0 row1\" >上证50</th>\n                        <td id=\"T_f0b47_row1_col0\" class=\"data row1 col0\" >3650.900000</td>\n                        <td id=\"T_f0b47_row1_col1\" class=\"data row1 col1\" >0.020000</td>\n                        <td id=\"T_f0b47_row1_col2\" class=\"data row1 col2\" >-0.380000</td>\n                        <td id=\"T_f0b47_row1_col3\" class=\"data row1 col3\" >0.260000</td>\n                        <td id=\"T_f0b47_row1_col4\" class=\"data row1 col4\" >6.960000</td>\n                        <td id=\"T_f0b47_row1_col5\" class=\"data row1 col5\" >-23.430000</td>\n                        <td id=\"T_f0b47_row1_col6\" class=\"data row1 col6\" >8.980000</td>\n                        <td id=\"T_f0b47_row1_col7\" class=\"data row1 col7\" >6.330000</td>\n                        <td id=\"T_f0b47_row1_col8\" class=\"data row1 col8\" >-21.540000</td>\n                        <td id=\"T_f0b47_row1_col9\" class=\"data row1 col9\" >12.730000</td>\n            </tr>\n            <tr>\n                        <th id=\"T_f0b47_level0_row2\" class=\"row_heading level0 row2\" >沪深300</th>\n                        <td id=\"T_f0b47_row2_col0\" class=\"data row2 col0\" >5341.680000</td>\n                        <td id=\"T_f0b47_row2_col1\" class=\"data row2 col1\" >0.190000</td>\n                        <td id=\"T_f0b47_row2_col2\" class=\"data row2 col2\" >0.060000</td>\n                        <td id=\"T_f0b47_row2_col3\" class=\"data row2 col3\" >0.440000</td>\n                        <td id=\"T_f0b47_row2_col4\" class=\"data row2 col4\" >-0.530000</td>\n                        <td id=\"T_f0b47_row2_col5\" class=\"data row2 col5\" >-9.580000</td>\n                        <td id=\"T_f0b47_row2_col6\" class=\"data row2 col6\" >11.480000</td>\n                        <td id=\"T_f0b47_row2_col7\" class=\"data row2 col7\" >0.120000</td>\n                        <td id=\"T_f0b47_row2_col8\" class=\"data row2 col8\" >-8.370000</td>\n                        <td id=\"T_f0b47_row2_col9\" class=\"data row2 col9\" >10.360000</td>\n            </tr>\n            <tr>\n                        <th id=\"T_f0b47_level0_row3\" class=\"row_heading level0 row3\" >中证500</th>\n                        <td id=\"T_f0b47_row3_col0\" class=\"data row3 col0\" >6739.760000</td>\n                        <td id=\"T_f0b47_row3_col1\" class=\"data row3 col1\" >0.160000</td>\n                        <td id=\"T_f0b47_row3_col2\" class=\"data row3 col2\" >0.810000</td>\n                        <td id=\"T_f0b47_row3_col3\" class=\"data row3 col3\" >1.810000</td>\n                        <td id=\"T_f0b47_row3_col4\" class=\"data row3 col4\" >9.640000</td>\n                        <td id=\"T_f0b47_row3_col5\" class=\"data row3 col5\" >4.310000</td>\n                        <td id=\"T_f0b47_row3_col6\" class=\"data row3 col6\" >7.420000</td>\n                        <td id=\"T_f0b47_row3_col7\" class=\"data row3 col7\" >4.700000</td>\n                        <td id=\"T_f0b47_row3_col8\" class=\"data row3 col8\" >9.300000</td>\n                        <td id=\"T_f0b47_row3_col9\" class=\"data row3 col9\" >13.630000</td>\n            </tr>\n            <tr>\n                        <th id=\"T_f0b47_level0_row4\" class=\"row_heading level0 row4\" >深成指</th>\n                        <td id=\"T_f0b47_row4_col0\" class=\"data row4 col0\" >15034.780000</td>\n                        <td id=\"T_f0b47_row4_col1\" class=\"data row4 col1\" >0.260000</td>\n                        <td id=\"T_f0b47_row4_col2\" class=\"data row4 col2\" >0.920000</td>\n                        <td id=\"T_f0b47_row4_col3\" class=\"data row4 col3\" >1.270000</td>\n                        <td id=\"T_f0b47_row4_col4\" class=\"data row4 col4\" >3.780000</td>\n                        <td id=\"T_f0b47_row4_col5\" class=\"data row4 col5\" >1.040000</td>\n                        <td id=\"T_f0b47_row4_col6\" class=\"data row4 col6\" >12.750000</td>\n                        <td id=\"T_f0b47_row4_col7\" class=\"data row4 col7\" >-0.630000</td>\n                        <td id=\"T_f0b47_row4_col8\" class=\"data row4 col8\" >5.550000</td>\n                        <td id=\"T_f0b47_row4_col9\" class=\"data row4 col9\" >12.770000</td>\n            </tr>\n            <tr>\n                        <th id=\"T_f0b47_level0_row5\" class=\"row_heading level0 row5\" >中小板指</th>\n                        <td id=\"T_f0b47_row5_col0\" class=\"data row5 col0\" >9652.390000</td>\n                        <td id=\"T_f0b47_row5_col1\" class=\"data row5 col1\" >0.720000</td>\n                        <td id=\"T_f0b47_row5_col2\" class=\"data row5 col2\" >1.130000</td>\n                        <td id=\"T_f0b47_row5_col3\" class=\"data row5 col3\" >1.240000</td>\n                        <td id=\"T_f0b47_row5_col4\" class=\"data row5 col4\" >4.900000</td>\n                        <td id=\"T_f0b47_row5_col5\" class=\"data row5 col5\" >-4.590000</td>\n                        <td id=\"T_f0b47_row5_col6\" class=\"data row5 col6\" >18.080000</td>\n                        <td id=\"T_f0b47_row5_col7\" class=\"data row5 col7\" >6.150000</td>\n                        <td id=\"T_f0b47_row5_col8\" class=\"data row5 col8\" >6.810000</td>\n                        <td id=\"T_f0b47_row5_col9\" class=\"data row5 col9\" >11.910000</td>\n            </tr>\n            <tr>\n                        <th id=\"T_f0b47_level0_row6\" class=\"row_heading level0 row6\" >创业板指</th>\n                        <td id=\"T_f0b47_row6_col0\" class=\"data row6 col0\" >3300.160000</td>\n                        <td id=\"T_f0b47_row6_col1\" class=\"data row6 col1\" >-0.270000</td>\n                        <td id=\"T_f0b47_row6_col2\" class=\"data row6 col2\" >2.300000</td>\n                        <td id=\"T_f0b47_row6_col3\" class=\"data row6 col3\" >2.260000</td>\n                        <td id=\"T_f0b47_row6_col4\" class=\"data row6 col4\" >-7.340000</td>\n                        <td id=\"T_f0b47_row6_col5\" class=\"data row6 col5\" >0.050000</td>\n                        <td id=\"T_f0b47_row6_col6\" class=\"data row6 col6\" >12.130000</td>\n                        <td id=\"T_f0b47_row6_col7\" class=\"data row6 col7\" >-12.800000</td>\n                        <td id=\"T_f0b47_row6_col8\" class=\"data row6 col8\" >9.710000</td>\n                        <td id=\"T_f0b47_row6_col9\" class=\"data row6 col9\" >11.050000</td>\n            </tr>\n    </tbody></table>"
     },
     "metadata": {},
     "execution_count": 9
    }
   ],
   "source": [
    "MarketView.index_change()"
   ]
  },
  {
   "cell_type": "code",
   "execution_count": 10,
   "id": "12c2a9fd-675b-40ea-8733-43382ecf48eb",
   "metadata": {},
   "outputs": [
    {
     "output_type": "execute_result",
     "data": {
      "text/plain": [
       "<pandas.io.formats.style.Styler at 0x1897cee5df0>"
      ],
      "text/html": "<style  type=\"text/css\" >\n#T_27e70_row0_col0,#T_27e70_row0_col1,#T_27e70_row0_col2,#T_27e70_row0_col3,#T_27e70_row0_col6,#T_27e70_row0_col7,#T_27e70_row0_col8,#T_27e70_row0_col9,#T_27e70_row0_col10,#T_27e70_row1_col0,#T_27e70_row1_col1,#T_27e70_row1_col2,#T_27e70_row1_col6,#T_27e70_row1_col7,#T_27e70_row1_col8,#T_27e70_row1_col9,#T_27e70_row1_col10,#T_27e70_row2_col0,#T_27e70_row2_col1,#T_27e70_row2_col2,#T_27e70_row2_col3,#T_27e70_row2_col6,#T_27e70_row2_col7,#T_27e70_row2_col8,#T_27e70_row2_col9,#T_27e70_row2_col10,#T_27e70_row3_col0,#T_27e70_row3_col1,#T_27e70_row3_col2,#T_27e70_row3_col6,#T_27e70_row3_col7,#T_27e70_row3_col8,#T_27e70_row3_col9,#T_27e70_row4_col0,#T_27e70_row4_col1,#T_27e70_row4_col2,#T_27e70_row4_col3,#T_27e70_row4_col6,#T_27e70_row4_col7,#T_27e70_row4_col8,#T_27e70_row4_col9,#T_27e70_row4_col10,#T_27e70_row5_col0,#T_27e70_row5_col1,#T_27e70_row5_col2,#T_27e70_row5_col6,#T_27e70_row5_col7,#T_27e70_row5_col8,#T_27e70_row5_col9,#T_27e70_row5_col10,#T_27e70_row6_col0,#T_27e70_row6_col1,#T_27e70_row6_col2,#T_27e70_row6_col6,#T_27e70_row6_col7,#T_27e70_row6_col8,#T_27e70_row6_col9,#T_27e70_row6_col10,#T_27e70_row7_col0,#T_27e70_row7_col1,#T_27e70_row7_col2,#T_27e70_row7_col3,#T_27e70_row7_col6,#T_27e70_row7_col7,#T_27e70_row7_col8,#T_27e70_row7_col9,#T_27e70_row7_col10,#T_27e70_row8_col0,#T_27e70_row8_col1,#T_27e70_row8_col2,#T_27e70_row8_col3,#T_27e70_row8_col6,#T_27e70_row8_col7,#T_27e70_row8_col8,#T_27e70_row8_col10,#T_27e70_row9_col0,#T_27e70_row9_col1,#T_27e70_row9_col2,#T_27e70_row9_col3,#T_27e70_row9_col6,#T_27e70_row9_col7,#T_27e70_row9_col8,#T_27e70_row9_col9,#T_27e70_row9_col10,#T_27e70_row10_col0,#T_27e70_row10_col1,#T_27e70_row10_col2,#T_27e70_row10_col3,#T_27e70_row10_col6,#T_27e70_row10_col7,#T_27e70_row10_col8,#T_27e70_row10_col10,#T_27e70_row11_col0,#T_27e70_row11_col1,#T_27e70_row11_col2,#T_27e70_row11_col3,#T_27e70_row11_col7,#T_27e70_row11_col8,#T_27e70_row11_col10,#T_27e70_row12_col0,#T_27e70_row12_col1,#T_27e70_row12_col2,#T_27e70_row12_col3,#T_27e70_row12_col6,#T_27e70_row12_col7,#T_27e70_row12_col8,#T_27e70_row12_col9,#T_27e70_row13_col1,#T_27e70_row13_col6,#T_27e70_row13_col7,#T_27e70_row13_col8,#T_27e70_row13_col9,#T_27e70_row13_col10{\n            background-color:  #ebf3eb;\n            color:  #000000;\n        }#T_27e70_row0_col4,#T_27e70_row8_col9,#T_27e70_row9_col4,#T_27e70_row11_col9{\n            background-color:  #75b975;\n            color:  #000000;\n        }#T_27e70_row0_col5,#T_27e70_row1_col5,#T_27e70_row2_col5,#T_27e70_row3_col5,#T_27e70_row4_col4,#T_27e70_row5_col4,#T_27e70_row6_col4,#T_27e70_row6_col5,#T_27e70_row7_col5,#T_27e70_row8_col4,#T_27e70_row9_col5,#T_27e70_row10_col4,#T_27e70_row10_col5,#T_27e70_row11_col5,#T_27e70_row12_col4,#T_27e70_row13_col5{\n            background-color:  #008000;\n            color:  #f1f1f1;\n        }#T_27e70_row1_col3,#T_27e70_row13_col2,#T_27e70_row13_col3{\n            background-color:  #bcdcbc;\n            color:  #000000;\n        }#T_27e70_row1_col4{\n            background-color:  #5eae5e;\n            color:  #000000;\n        }#T_27e70_row2_col4,#T_27e70_row4_col5{\n            background-color:  #a7d2a7;\n            color:  #000000;\n        }#T_27e70_row3_col3,#T_27e70_row3_col10{\n            background-color:  #c4e0c4;\n            color:  #000000;\n        }#T_27e70_row3_col4{\n            background-color:  #9ccd9c;\n            color:  #000000;\n        }#T_27e70_row5_col3,#T_27e70_row5_col5,#T_27e70_row13_col0,#T_27e70_row13_col4{\n            background-color:  #8dc58d;\n            color:  #000000;\n        }#T_27e70_row6_col3,#T_27e70_row10_col9,#T_27e70_row11_col6,#T_27e70_row12_col10{\n            background-color:  #b0d6b0;\n            color:  #000000;\n        }#T_27e70_row7_col4{\n            background-color:  #2f972f;\n            color:  #000000;\n        }#T_27e70_row8_col5,#T_27e70_row11_col4{\n            background-color:  #3a9c3a;\n            color:  #000000;\n        }#T_27e70_row12_col5{\n            background-color:  #cde5cd;\n            color:  #000000;\n        }</style><table id=\"T_27e70_\" ><caption>2021-05-13到2021-06-01市场热度变化</caption><thead>    <tr>        <th class=\"blank level0\" ></th>        <th class=\"col_heading level0 col0\" >涨停</th>        <th class=\"col_heading level0 col1\" >+7-10</th>        <th class=\"col_heading level0 col2\" >+5-7</th>        <th class=\"col_heading level0 col3\" >+3-5</th>        <th class=\"col_heading level0 col4\" >+0-3</th>        <th class=\"col_heading level0 col5\" >-0-3</th>        <th class=\"col_heading level0 col6\" >-3-5</th>        <th class=\"col_heading level0 col7\" >-5-7</th>        <th class=\"col_heading level0 col8\" >-7-10</th>        <th class=\"col_heading level0 col9\" >跌停</th>        <th class=\"col_heading level0 col10\" >炸板</th>    </tr></thead><tbody>\n                <tr>\n                        <th id=\"T_27e70_level0_row0\" class=\"row_heading level0 row0\" >2021-06-01</th>\n                        <td id=\"T_27e70_row0_col0\" class=\"data row0 col0\" >0</td>\n                        <td id=\"T_27e70_row0_col1\" class=\"data row0 col1\" >0</td>\n                        <td id=\"T_27e70_row0_col2\" class=\"data row0 col2\" >0</td>\n                        <td id=\"T_27e70_row0_col3\" class=\"data row0 col3\" >0</td>\n                        <td id=\"T_27e70_row0_col4\" class=\"data row0 col4\" >3</td>\n                        <td id=\"T_27e70_row0_col5\" class=\"data row0 col5\" >6</td>\n                        <td id=\"T_27e70_row0_col6\" class=\"data row0 col6\" >0</td>\n                        <td id=\"T_27e70_row0_col7\" class=\"data row0 col7\" >0</td>\n                        <td id=\"T_27e70_row0_col8\" class=\"data row0 col8\" >0</td>\n                        <td id=\"T_27e70_row0_col9\" class=\"data row0 col9\" >0</td>\n                        <td id=\"T_27e70_row0_col10\" class=\"data row0 col10\" >0</td>\n            </tr>\n            <tr>\n                        <th id=\"T_27e70_level0_row1\" class=\"row_heading level0 row1\" >2021-05-31</th>\n                        <td id=\"T_27e70_row1_col0\" class=\"data row1 col0\" >0</td>\n                        <td id=\"T_27e70_row1_col1\" class=\"data row1 col1\" >0</td>\n                        <td id=\"T_27e70_row1_col2\" class=\"data row1 col2\" >0</td>\n                        <td id=\"T_27e70_row1_col3\" class=\"data row1 col3\" >1</td>\n                        <td id=\"T_27e70_row1_col4\" class=\"data row1 col4\" >3</td>\n                        <td id=\"T_27e70_row1_col5\" class=\"data row1 col5\" >5</td>\n                        <td id=\"T_27e70_row1_col6\" class=\"data row1 col6\" >0</td>\n                        <td id=\"T_27e70_row1_col7\" class=\"data row1 col7\" >0</td>\n                        <td id=\"T_27e70_row1_col8\" class=\"data row1 col8\" >0</td>\n                        <td id=\"T_27e70_row1_col9\" class=\"data row1 col9\" >0</td>\n                        <td id=\"T_27e70_row1_col10\" class=\"data row1 col10\" >0</td>\n            </tr>\n            <tr>\n                        <th id=\"T_27e70_level0_row2\" class=\"row_heading level0 row2\" >2021-05-28</th>\n                        <td id=\"T_27e70_row2_col0\" class=\"data row2 col0\" >0</td>\n                        <td id=\"T_27e70_row2_col1\" class=\"data row2 col1\" >0</td>\n                        <td id=\"T_27e70_row2_col2\" class=\"data row2 col2\" >0</td>\n                        <td id=\"T_27e70_row2_col3\" class=\"data row2 col3\" >0</td>\n                        <td id=\"T_27e70_row2_col4\" class=\"data row2 col4\" >2</td>\n                        <td id=\"T_27e70_row2_col5\" class=\"data row2 col5\" >7</td>\n                        <td id=\"T_27e70_row2_col6\" class=\"data row2 col6\" >0</td>\n                        <td id=\"T_27e70_row2_col7\" class=\"data row2 col7\" >0</td>\n                        <td id=\"T_27e70_row2_col8\" class=\"data row2 col8\" >0</td>\n                        <td id=\"T_27e70_row2_col9\" class=\"data row2 col9\" >0</td>\n                        <td id=\"T_27e70_row2_col10\" class=\"data row2 col10\" >0</td>\n            </tr>\n            <tr>\n                        <th id=\"T_27e70_level0_row3\" class=\"row_heading level0 row3\" >2021-05-27</th>\n                        <td id=\"T_27e70_row3_col0\" class=\"data row3 col0\" >0</td>\n                        <td id=\"T_27e70_row3_col1\" class=\"data row3 col1\" >0</td>\n                        <td id=\"T_27e70_row3_col2\" class=\"data row3 col2\" >0</td>\n                        <td id=\"T_27e70_row3_col3\" class=\"data row3 col3\" >1</td>\n                        <td id=\"T_27e70_row3_col4\" class=\"data row3 col4\" >2</td>\n                        <td id=\"T_27e70_row3_col5\" class=\"data row3 col5\" >6</td>\n                        <td id=\"T_27e70_row3_col6\" class=\"data row3 col6\" >0</td>\n                        <td id=\"T_27e70_row3_col7\" class=\"data row3 col7\" >0</td>\n                        <td id=\"T_27e70_row3_col8\" class=\"data row3 col8\" >0</td>\n                        <td id=\"T_27e70_row3_col9\" class=\"data row3 col9\" >0</td>\n                        <td id=\"T_27e70_row3_col10\" class=\"data row3 col10\" >1</td>\n            </tr>\n            <tr>\n                        <th id=\"T_27e70_level0_row4\" class=\"row_heading level0 row4\" >2021-05-26</th>\n                        <td id=\"T_27e70_row4_col0\" class=\"data row4 col0\" >0</td>\n                        <td id=\"T_27e70_row4_col1\" class=\"data row4 col1\" >0</td>\n                        <td id=\"T_27e70_row4_col2\" class=\"data row4 col2\" >0</td>\n                        <td id=\"T_27e70_row4_col3\" class=\"data row4 col3\" >0</td>\n                        <td id=\"T_27e70_row4_col4\" class=\"data row4 col4\" >7</td>\n                        <td id=\"T_27e70_row4_col5\" class=\"data row4 col5\" >2</td>\n                        <td id=\"T_27e70_row4_col6\" class=\"data row4 col6\" >0</td>\n                        <td id=\"T_27e70_row4_col7\" class=\"data row4 col7\" >0</td>\n                        <td id=\"T_27e70_row4_col8\" class=\"data row4 col8\" >0</td>\n                        <td id=\"T_27e70_row4_col9\" class=\"data row4 col9\" >0</td>\n                        <td id=\"T_27e70_row4_col10\" class=\"data row4 col10\" >0</td>\n            </tr>\n            <tr>\n                        <th id=\"T_27e70_level0_row5\" class=\"row_heading level0 row5\" >2021-05-25</th>\n                        <td id=\"T_27e70_row5_col0\" class=\"data row5 col0\" >0</td>\n                        <td id=\"T_27e70_row5_col1\" class=\"data row5 col1\" >0</td>\n                        <td id=\"T_27e70_row5_col2\" class=\"data row5 col2\" >0</td>\n                        <td id=\"T_27e70_row5_col3\" class=\"data row5 col3\" >2</td>\n                        <td id=\"T_27e70_row5_col4\" class=\"data row5 col4\" >5</td>\n                        <td id=\"T_27e70_row5_col5\" class=\"data row5 col5\" >2</td>\n                        <td id=\"T_27e70_row5_col6\" class=\"data row5 col6\" >0</td>\n                        <td id=\"T_27e70_row5_col7\" class=\"data row5 col7\" >0</td>\n                        <td id=\"T_27e70_row5_col8\" class=\"data row5 col8\" >0</td>\n                        <td id=\"T_27e70_row5_col9\" class=\"data row5 col9\" >0</td>\n                        <td id=\"T_27e70_row5_col10\" class=\"data row5 col10\" >0</td>\n            </tr>\n            <tr>\n                        <th id=\"T_27e70_level0_row6\" class=\"row_heading level0 row6\" >2021-05-24</th>\n                        <td id=\"T_27e70_row6_col0\" class=\"data row6 col0\" >0</td>\n                        <td id=\"T_27e70_row6_col1\" class=\"data row6 col1\" >0</td>\n                        <td id=\"T_27e70_row6_col2\" class=\"data row6 col2\" >0</td>\n                        <td id=\"T_27e70_row6_col3\" class=\"data row6 col3\" >1</td>\n                        <td id=\"T_27e70_row6_col4\" class=\"data row6 col4\" >4</td>\n                        <td id=\"T_27e70_row6_col5\" class=\"data row6 col5\" >4</td>\n                        <td id=\"T_27e70_row6_col6\" class=\"data row6 col6\" >0</td>\n                        <td id=\"T_27e70_row6_col7\" class=\"data row6 col7\" >0</td>\n                        <td id=\"T_27e70_row6_col8\" class=\"data row6 col8\" >0</td>\n                        <td id=\"T_27e70_row6_col9\" class=\"data row6 col9\" >0</td>\n                        <td id=\"T_27e70_row6_col10\" class=\"data row6 col10\" >0</td>\n            </tr>\n            <tr>\n                        <th id=\"T_27e70_level0_row7\" class=\"row_heading level0 row7\" >2021-05-21</th>\n                        <td id=\"T_27e70_row7_col0\" class=\"data row7 col0\" >0</td>\n                        <td id=\"T_27e70_row7_col1\" class=\"data row7 col1\" >0</td>\n                        <td id=\"T_27e70_row7_col2\" class=\"data row7 col2\" >0</td>\n                        <td id=\"T_27e70_row7_col3\" class=\"data row7 col3\" >0</td>\n                        <td id=\"T_27e70_row7_col4\" class=\"data row7 col4\" >4</td>\n                        <td id=\"T_27e70_row7_col5\" class=\"data row7 col5\" >5</td>\n                        <td id=\"T_27e70_row7_col6\" class=\"data row7 col6\" >0</td>\n                        <td id=\"T_27e70_row7_col7\" class=\"data row7 col7\" >0</td>\n                        <td id=\"T_27e70_row7_col8\" class=\"data row7 col8\" >0</td>\n                        <td id=\"T_27e70_row7_col9\" class=\"data row7 col9\" >0</td>\n                        <td id=\"T_27e70_row7_col10\" class=\"data row7 col10\" >0</td>\n            </tr>\n            <tr>\n                        <th id=\"T_27e70_level0_row8\" class=\"row_heading level0 row8\" >2021-05-20</th>\n                        <td id=\"T_27e70_row8_col0\" class=\"data row8 col0\" >0</td>\n                        <td id=\"T_27e70_row8_col1\" class=\"data row8 col1\" >0</td>\n                        <td id=\"T_27e70_row8_col2\" class=\"data row8 col2\" >0</td>\n                        <td id=\"T_27e70_row8_col3\" class=\"data row8 col3\" >0</td>\n                        <td id=\"T_27e70_row8_col4\" class=\"data row8 col4\" >4</td>\n                        <td id=\"T_27e70_row8_col5\" class=\"data row8 col5\" >3</td>\n                        <td id=\"T_27e70_row8_col6\" class=\"data row8 col6\" >0</td>\n                        <td id=\"T_27e70_row8_col7\" class=\"data row8 col7\" >0</td>\n                        <td id=\"T_27e70_row8_col8\" class=\"data row8 col8\" >0</td>\n                        <td id=\"T_27e70_row8_col9\" class=\"data row8 col9\" >2</td>\n                        <td id=\"T_27e70_row8_col10\" class=\"data row8 col10\" >0</td>\n            </tr>\n            <tr>\n                        <th id=\"T_27e70_level0_row9\" class=\"row_heading level0 row9\" >2021-05-19</th>\n                        <td id=\"T_27e70_row9_col0\" class=\"data row9 col0\" >0</td>\n                        <td id=\"T_27e70_row9_col1\" class=\"data row9 col1\" >0</td>\n                        <td id=\"T_27e70_row9_col2\" class=\"data row9 col2\" >0</td>\n                        <td id=\"T_27e70_row9_col3\" class=\"data row9 col3\" >0</td>\n                        <td id=\"T_27e70_row9_col4\" class=\"data row9 col4\" >3</td>\n                        <td id=\"T_27e70_row9_col5\" class=\"data row9 col5\" >6</td>\n                        <td id=\"T_27e70_row9_col6\" class=\"data row9 col6\" >0</td>\n                        <td id=\"T_27e70_row9_col7\" class=\"data row9 col7\" >0</td>\n                        <td id=\"T_27e70_row9_col8\" class=\"data row9 col8\" >0</td>\n                        <td id=\"T_27e70_row9_col9\" class=\"data row9 col9\" >0</td>\n                        <td id=\"T_27e70_row9_col10\" class=\"data row9 col10\" >0</td>\n            </tr>\n            <tr>\n                        <th id=\"T_27e70_level0_row10\" class=\"row_heading level0 row10\" >2021-05-18</th>\n                        <td id=\"T_27e70_row10_col0\" class=\"data row10 col0\" >0</td>\n                        <td id=\"T_27e70_row10_col1\" class=\"data row10 col1\" >0</td>\n                        <td id=\"T_27e70_row10_col2\" class=\"data row10 col2\" >0</td>\n                        <td id=\"T_27e70_row10_col3\" class=\"data row10 col3\" >0</td>\n                        <td id=\"T_27e70_row10_col4\" class=\"data row10 col4\" >4</td>\n                        <td id=\"T_27e70_row10_col5\" class=\"data row10 col5\" >4</td>\n                        <td id=\"T_27e70_row10_col6\" class=\"data row10 col6\" >0</td>\n                        <td id=\"T_27e70_row10_col7\" class=\"data row10 col7\" >0</td>\n                        <td id=\"T_27e70_row10_col8\" class=\"data row10 col8\" >0</td>\n                        <td id=\"T_27e70_row10_col9\" class=\"data row10 col9\" >1</td>\n                        <td id=\"T_27e70_row10_col10\" class=\"data row10 col10\" >0</td>\n            </tr>\n            <tr>\n                        <th id=\"T_27e70_level0_row11\" class=\"row_heading level0 row11\" >2021-05-17</th>\n                        <td id=\"T_27e70_row11_col0\" class=\"data row11 col0\" >0</td>\n                        <td id=\"T_27e70_row11_col1\" class=\"data row11 col1\" >0</td>\n                        <td id=\"T_27e70_row11_col2\" class=\"data row11 col2\" >0</td>\n                        <td id=\"T_27e70_row11_col3\" class=\"data row11 col3\" >0</td>\n                        <td id=\"T_27e70_row11_col4\" class=\"data row11 col4\" >3</td>\n                        <td id=\"T_27e70_row11_col5\" class=\"data row11 col5\" >4</td>\n                        <td id=\"T_27e70_row11_col6\" class=\"data row11 col6\" >1</td>\n                        <td id=\"T_27e70_row11_col7\" class=\"data row11 col7\" >0</td>\n                        <td id=\"T_27e70_row11_col8\" class=\"data row11 col8\" >0</td>\n                        <td id=\"T_27e70_row11_col9\" class=\"data row11 col9\" >2</td>\n                        <td id=\"T_27e70_row11_col10\" class=\"data row11 col10\" >0</td>\n            </tr>\n            <tr>\n                        <th id=\"T_27e70_level0_row12\" class=\"row_heading level0 row12\" >2021-05-14</th>\n                        <td id=\"T_27e70_row12_col0\" class=\"data row12 col0\" >0</td>\n                        <td id=\"T_27e70_row12_col1\" class=\"data row12 col1\" >0</td>\n                        <td id=\"T_27e70_row12_col2\" class=\"data row12 col2\" >0</td>\n                        <td id=\"T_27e70_row12_col3\" class=\"data row12 col3\" >0</td>\n                        <td id=\"T_27e70_row12_col4\" class=\"data row12 col4\" >8</td>\n                        <td id=\"T_27e70_row12_col5\" class=\"data row12 col5\" >1</td>\n                        <td id=\"T_27e70_row12_col6\" class=\"data row12 col6\" >0</td>\n                        <td id=\"T_27e70_row12_col7\" class=\"data row12 col7\" >0</td>\n                        <td id=\"T_27e70_row12_col8\" class=\"data row12 col8\" >0</td>\n                        <td id=\"T_27e70_row12_col9\" class=\"data row12 col9\" >0</td>\n                        <td id=\"T_27e70_row12_col10\" class=\"data row12 col10\" >2</td>\n            </tr>\n            <tr>\n                        <th id=\"T_27e70_level0_row13\" class=\"row_heading level0 row13\" >2021-05-13</th>\n                        <td id=\"T_27e70_row13_col0\" class=\"data row13 col0\" >2</td>\n                        <td id=\"T_27e70_row13_col1\" class=\"data row13 col1\" >0</td>\n                        <td id=\"T_27e70_row13_col2\" class=\"data row13 col2\" >1</td>\n                        <td id=\"T_27e70_row13_col3\" class=\"data row13 col3\" >1</td>\n                        <td id=\"T_27e70_row13_col4\" class=\"data row13 col4\" >2</td>\n                        <td id=\"T_27e70_row13_col5\" class=\"data row13 col5\" >5</td>\n                        <td id=\"T_27e70_row13_col6\" class=\"data row13 col6\" >0</td>\n                        <td id=\"T_27e70_row13_col7\" class=\"data row13 col7\" >0</td>\n                        <td id=\"T_27e70_row13_col8\" class=\"data row13 col8\" >0</td>\n                        <td id=\"T_27e70_row13_col9\" class=\"data row13 col9\" >0</td>\n                        <td id=\"T_27e70_row13_col10\" class=\"data row13 col10\" >0</td>\n            </tr>\n    </tbody></table>"
     },
     "metadata": {},
     "execution_count": 10
    }
   ],
   "source": [
    "MarketView.high_limit_stat(data)"
   ]
  },
  {
   "cell_type": "code",
   "execution_count": 11,
   "id": "e0c52150-9cd3-4cb9-a3f5-c308fddb21ee",
   "metadata": {},
   "outputs": [
    {
     "output_type": "execute_result",
     "data": {
      "text/plain": [
       "           index        variable  value\n",
       "179  000010.XSHE  20201229000000      1\n",
       "394  000009.XSHE  20210202000000      1\n",
       "464  000007.XSHE  20210219000000      1\n",
       "466  000009.XSHE  20210219000000      1\n",
       "473  000007.XSHE  20210222000000      1\n",
       "482  000007.XSHE  20210223000000      1\n",
       "496  000002.XSHE  20210225000000      1\n",
       "509  000007.XSHE  20210226000000      1\n",
       "518  000007.XSHE  20210301000000      1\n",
       "572  000007.XSHE  20210309000000      1\n",
       "575  000010.XSHE  20210309000000      1\n",
       "581  000007.XSHE  20210310000000      1\n",
       "635  000007.XSHE  20210318000000      1\n",
       "674  000010.XSHE  20210324000000      1\n",
       "678  000005.XSHE  20210325000000      1\n",
       "687  000005.XSHE  20210326000000      1\n",
       "725  000007.XSHE  20210401000000      1\n",
       "745  000009.XSHE  20210406000000      1\n",
       "785  000004.XSHE  20210413000000      1\n",
       "800  000010.XSHE  20210414000000      1\n",
       "941  000007.XSHE  20210511000000      1\n",
       "950  000007.XSHE  20210512000000      1\n",
       "957  000005.XSHE  20210513000000      1\n",
       "959  000007.XSHE  20210513000000      1"
      ],
      "text/html": "<div>\n<style scoped>\n    .dataframe tbody tr th:only-of-type {\n        vertical-align: middle;\n    }\n\n    .dataframe tbody tr th {\n        vertical-align: top;\n    }\n\n    .dataframe thead th {\n        text-align: right;\n    }\n</style>\n<table border=\"1\" class=\"dataframe\">\n  <thead>\n    <tr style=\"text-align: right;\">\n      <th></th>\n      <th>index</th>\n      <th>variable</th>\n      <th>value</th>\n    </tr>\n  </thead>\n  <tbody>\n    <tr>\n      <th>179</th>\n      <td>000010.XSHE</td>\n      <td>20201229000000</td>\n      <td>1</td>\n    </tr>\n    <tr>\n      <th>394</th>\n      <td>000009.XSHE</td>\n      <td>20210202000000</td>\n      <td>1</td>\n    </tr>\n    <tr>\n      <th>464</th>\n      <td>000007.XSHE</td>\n      <td>20210219000000</td>\n      <td>1</td>\n    </tr>\n    <tr>\n      <th>466</th>\n      <td>000009.XSHE</td>\n      <td>20210219000000</td>\n      <td>1</td>\n    </tr>\n    <tr>\n      <th>473</th>\n      <td>000007.XSHE</td>\n      <td>20210222000000</td>\n      <td>1</td>\n    </tr>\n    <tr>\n      <th>482</th>\n      <td>000007.XSHE</td>\n      <td>20210223000000</td>\n      <td>1</td>\n    </tr>\n    <tr>\n      <th>496</th>\n      <td>000002.XSHE</td>\n      <td>20210225000000</td>\n      <td>1</td>\n    </tr>\n    <tr>\n      <th>509</th>\n      <td>000007.XSHE</td>\n      <td>20210226000000</td>\n      <td>1</td>\n    </tr>\n    <tr>\n      <th>518</th>\n      <td>000007.XSHE</td>\n      <td>20210301000000</td>\n      <td>1</td>\n    </tr>\n    <tr>\n      <th>572</th>\n      <td>000007.XSHE</td>\n      <td>20210309000000</td>\n      <td>1</td>\n    </tr>\n    <tr>\n      <th>575</th>\n      <td>000010.XSHE</td>\n      <td>20210309000000</td>\n      <td>1</td>\n    </tr>\n    <tr>\n      <th>581</th>\n      <td>000007.XSHE</td>\n      <td>20210310000000</td>\n      <td>1</td>\n    </tr>\n    <tr>\n      <th>635</th>\n      <td>000007.XSHE</td>\n      <td>20210318000000</td>\n      <td>1</td>\n    </tr>\n    <tr>\n      <th>674</th>\n      <td>000010.XSHE</td>\n      <td>20210324000000</td>\n      <td>1</td>\n    </tr>\n    <tr>\n      <th>678</th>\n      <td>000005.XSHE</td>\n      <td>20210325000000</td>\n      <td>1</td>\n    </tr>\n    <tr>\n      <th>687</th>\n      <td>000005.XSHE</td>\n      <td>20210326000000</td>\n      <td>1</td>\n    </tr>\n    <tr>\n      <th>725</th>\n      <td>000007.XSHE</td>\n      <td>20210401000000</td>\n      <td>1</td>\n    </tr>\n    <tr>\n      <th>745</th>\n      <td>000009.XSHE</td>\n      <td>20210406000000</td>\n      <td>1</td>\n    </tr>\n    <tr>\n      <th>785</th>\n      <td>000004.XSHE</td>\n      <td>20210413000000</td>\n      <td>1</td>\n    </tr>\n    <tr>\n      <th>800</th>\n      <td>000010.XSHE</td>\n      <td>20210414000000</td>\n      <td>1</td>\n    </tr>\n    <tr>\n      <th>941</th>\n      <td>000007.XSHE</td>\n      <td>20210511000000</td>\n      <td>1</td>\n    </tr>\n    <tr>\n      <th>950</th>\n      <td>000007.XSHE</td>\n      <td>20210512000000</td>\n      <td>1</td>\n    </tr>\n    <tr>\n      <th>957</th>\n      <td>000005.XSHE</td>\n      <td>20210513000000</td>\n      <td>1</td>\n    </tr>\n    <tr>\n      <th>959</th>\n      <td>000007.XSHE</td>\n      <td>20210513000000</td>\n      <td>1</td>\n    </tr>\n  </tbody>\n</table>\n</div>"
     },
     "metadata": {},
     "execution_count": 11
    }
   ],
   "source": [
    "MarketView.high_limit_record(data,cols)"
   ]
  },
  {
   "cell_type": "code",
   "execution_count": 12,
   "id": "a1afe186-100b-40a9-9dd2-865eacef0f69",
   "metadata": {},
   "outputs": [],
   "source": [
    "arr_up = (data['close'] == data['limit_up']).astype(int)"
   ]
  },
  {
   "cell_type": "code",
   "execution_count": 13,
   "id": "73935f4d-9b5f-416f-8d90-d50bf58c32bc",
   "metadata": {},
   "outputs": [
    {
     "output_type": "stream",
     "name": "stdout",
     "text": [
      "[[0 0 0 ... 0 0 0]\n [0 0 0 ... 0 0 0]\n [0 0 0 ... 0 0 0]\n ...\n [0 0 0 ... 0 0 0]\n [0 0 0 ... 0 0 0]\n [0 0 0 ... 0 0 0]]\n"
     ]
    }
   ],
   "source": [
    "print(arr_up)"
   ]
  },
  {
   "cell_type": "code",
   "execution_count": 14,
   "id": "45ebed98-b596-418e-b52b-f40cc4cbfda0",
   "metadata": {},
   "outputs": [
    {
     "output_type": "execute_result",
     "data": {
      "text/plain": [
       "array([[0, 0, 0, ..., 0, 0, 0],\n",
       "       [0, 0, 0, ..., 0, 0, 0],\n",
       "       [0, 0, 0, ..., 0, 0, 0],\n",
       "       ...,\n",
       "       [0, 0, 0, ..., 0, 0, 0],\n",
       "       [0, 0, 0, ..., 0, 0, 0],\n",
       "       [0, 0, 0, ..., 0, 0, 0]])"
      ]
     },
     "metadata": {},
     "execution_count": 14
    }
   ],
   "source": [
    "MarketView.lianban(arr_up)"
   ]
  },
  {
   "cell_type": "code",
   "execution_count": 15,
   "id": "3f315775-f66f-4d55-bd3f-adbe9bc7274f",
   "metadata": {},
   "outputs": [
    {
     "output_type": "execute_result",
     "data": {
      "text/plain": [
       "(9, 120)"
      ]
     },
     "metadata": {},
     "execution_count": 15
    }
   ],
   "source": [
    "arr_up.shape"
   ]
  },
  {
   "cell_type": "code",
   "execution_count": 16,
   "id": "9b6796f2-b2cc-4360-b7be-54fc8fa2c5dc",
   "metadata": {},
   "outputs": [
    {
     "output_type": "execute_result",
     "data": {
      "text/plain": [
       "(9, 120)"
      ]
     },
     "metadata": {},
     "execution_count": 16
    }
   ],
   "source": [
    "MarketView.lianban(arr_up).shape"
   ]
  },
  {
   "cell_type": "code",
   "execution_count": 17,
   "id": "80dc7104-8cee-4587-863c-08e2b5c1b0de",
   "metadata": {},
   "outputs": [
    {
     "output_type": "execute_result",
     "data": {
      "text/plain": [
       "000001.XSHE    0.246544\n",
       "000002.XSHE   -0.073171\n",
       "000004.XSHE   -0.228019\n",
       "000005.XSHE   -0.281124\n",
       "000006.XSHE   -0.058824\n",
       "000007.XSHE   -0.521964\n",
       "000008.XSHE   -0.102362\n",
       "000009.XSHE    0.334661\n",
       "000010.XSHE    0.030691\n",
       "dtype: float64"
      ]
     },
     "metadata": {},
     "execution_count": 17
    }
   ],
   "source": [
    "## 统计今年以来的涨幅\n",
    "df = pd.DataFrame(data['close'], columns=data['datetime'][0,:], index=cols)\n",
    "df.head(3)\n",
    "df_zhangfu = (df.iloc[:, -1] - df.loc[:, 20201231000000])/df.loc[:, 20201231000000]\n",
    "df_zhangfu"
   ]
  },
  {
   "cell_type": "code",
   "execution_count": 22,
   "id": "482ed71c-4266-4f98-9b7b-c7289a8dc67f",
   "metadata": {},
   "outputs": [
    {
     "output_type": "error",
     "ename": "TypeError",
     "evalue": "'int' object is not subscriptable",
     "traceback": [
      "\u001B[1;31m---------------------------------------------------------------------------\u001B[0m",
      "\u001B[1;31mTypeError\u001B[0m                                 Traceback (most recent call last)",
      "\u001B[1;32m<ipython-input-22-dfd8e6b59184>\u001B[0m in \u001B[0;36m<module>\u001B[1;34m\u001B[0m\n\u001B[1;32m----> 1\u001B[1;33m \u001B[0mMarketView\u001B[0m\u001B[1;33m.\u001B[0m\u001B[0mkline\u001B[0m\u001B[1;33m(\u001B[0m\u001B[1;34m'000001.XSHE'\u001B[0m\u001B[1;33m)\u001B[0m\u001B[1;33m\u001B[0m\u001B[1;33m\u001B[0m\u001B[0m\n\u001B[0m",
      "\u001B[1;32m<ipython-input-21-d45b1d3cad74>\u001B[0m in \u001B[0;36mkline\u001B[1;34m(order_book_id, date)\u001B[0m\n\u001B[0;32m    256\u001B[0m                                            field=['datetime', 'open','close','high', 'low', 'volume', 'total_turnover'])\n\u001B[0;32m    257\u001B[0m         \u001B[0mdf\u001B[0m \u001B[1;33m=\u001B[0m \u001B[0mpd\u001B[0m\u001B[1;33m.\u001B[0m\u001B[0mDataFrame\u001B[0m\u001B[1;33m(\u001B[0m\u001B[0mnarray\u001B[0m\u001B[1;33m)\u001B[0m\u001B[1;33m\u001B[0m\u001B[1;33m\u001B[0m\u001B[0m\n\u001B[1;32m--> 258\u001B[1;33m         \u001B[0mdf\u001B[0m\u001B[1;33m[\u001B[0m\u001B[1;34m'date'\u001B[0m\u001B[1;33m]\u001B[0m \u001B[1;33m=\u001B[0m \u001B[0mdf\u001B[0m\u001B[1;33m.\u001B[0m\u001B[0mdatetime\u001B[0m\u001B[1;33m.\u001B[0m\u001B[0mapply\u001B[0m\u001B[1;33m(\u001B[0m\u001B[1;32mlambda\u001B[0m \u001B[0mx\u001B[0m\u001B[1;33m:\u001B[0m\u001B[0mx\u001B[0m\u001B[1;33m[\u001B[0m\u001B[1;33m:\u001B[0m\u001B[1;36m8\u001B[0m\u001B[1;33m]\u001B[0m\u001B[1;33m)\u001B[0m\u001B[1;33m\u001B[0m\u001B[1;33m\u001B[0m\u001B[0m\n\u001B[0m\u001B[0;32m    259\u001B[0m         \u001B[0mdf\u001B[0m\u001B[1;33m=\u001B[0m\u001B[0mdf\u001B[0m\u001B[1;33m.\u001B[0m\u001B[0mset_index\u001B[0m\u001B[1;33m(\u001B[0m\u001B[1;34m'trade_date'\u001B[0m\u001B[1;33m)\u001B[0m\u001B[1;33m\u001B[0m\u001B[1;33m\u001B[0m\u001B[0m\n\u001B[0;32m    260\u001B[0m         \u001B[1;31m#绘制K线图\u001B[0m\u001B[1;33m\u001B[0m\u001B[1;33m\u001B[0m\u001B[1;33m\u001B[0m\u001B[0m\n",
      "\u001B[1;32m~\\AppData\\Local\\Programs\\Python\\Python39\\lib\\site-packages\\pandas\\core\\series.py\u001B[0m in \u001B[0;36mapply\u001B[1;34m(self, func, convert_dtype, args, **kwds)\u001B[0m\n\u001B[0;32m   4136\u001B[0m             \u001B[1;32melse\u001B[0m\u001B[1;33m:\u001B[0m\u001B[1;33m\u001B[0m\u001B[1;33m\u001B[0m\u001B[0m\n\u001B[0;32m   4137\u001B[0m                 \u001B[0mvalues\u001B[0m \u001B[1;33m=\u001B[0m \u001B[0mself\u001B[0m\u001B[1;33m.\u001B[0m\u001B[0mastype\u001B[0m\u001B[1;33m(\u001B[0m\u001B[0mobject\u001B[0m\u001B[1;33m)\u001B[0m\u001B[1;33m.\u001B[0m\u001B[0m_values\u001B[0m\u001B[1;33m\u001B[0m\u001B[1;33m\u001B[0m\u001B[0m\n\u001B[1;32m-> 4138\u001B[1;33m                 \u001B[0mmapped\u001B[0m \u001B[1;33m=\u001B[0m \u001B[0mlib\u001B[0m\u001B[1;33m.\u001B[0m\u001B[0mmap_infer\u001B[0m\u001B[1;33m(\u001B[0m\u001B[0mvalues\u001B[0m\u001B[1;33m,\u001B[0m \u001B[0mf\u001B[0m\u001B[1;33m,\u001B[0m \u001B[0mconvert\u001B[0m\u001B[1;33m=\u001B[0m\u001B[0mconvert_dtype\u001B[0m\u001B[1;33m)\u001B[0m\u001B[1;33m\u001B[0m\u001B[1;33m\u001B[0m\u001B[0m\n\u001B[0m\u001B[0;32m   4139\u001B[0m \u001B[1;33m\u001B[0m\u001B[0m\n\u001B[0;32m   4140\u001B[0m         \u001B[1;32mif\u001B[0m \u001B[0mlen\u001B[0m\u001B[1;33m(\u001B[0m\u001B[0mmapped\u001B[0m\u001B[1;33m)\u001B[0m \u001B[1;32mand\u001B[0m \u001B[0misinstance\u001B[0m\u001B[1;33m(\u001B[0m\u001B[0mmapped\u001B[0m\u001B[1;33m[\u001B[0m\u001B[1;36m0\u001B[0m\u001B[1;33m]\u001B[0m\u001B[1;33m,\u001B[0m \u001B[0mSeries\u001B[0m\u001B[1;33m)\u001B[0m\u001B[1;33m:\u001B[0m\u001B[1;33m\u001B[0m\u001B[1;33m\u001B[0m\u001B[0m\n",
      "\u001B[1;32mpandas\\_libs\\lib.pyx\u001B[0m in \u001B[0;36mpandas._libs.lib.map_infer\u001B[1;34m()\u001B[0m\n",
      "\u001B[1;32m<ipython-input-21-d45b1d3cad74>\u001B[0m in \u001B[0;36m<lambda>\u001B[1;34m(x)\u001B[0m\n\u001B[0;32m    256\u001B[0m                                            field=['datetime', 'open','close','high', 'low', 'volume', 'total_turnover'])\n\u001B[0;32m    257\u001B[0m         \u001B[0mdf\u001B[0m \u001B[1;33m=\u001B[0m \u001B[0mpd\u001B[0m\u001B[1;33m.\u001B[0m\u001B[0mDataFrame\u001B[0m\u001B[1;33m(\u001B[0m\u001B[0mnarray\u001B[0m\u001B[1;33m)\u001B[0m\u001B[1;33m\u001B[0m\u001B[1;33m\u001B[0m\u001B[0m\n\u001B[1;32m--> 258\u001B[1;33m         \u001B[0mdf\u001B[0m\u001B[1;33m[\u001B[0m\u001B[1;34m'date'\u001B[0m\u001B[1;33m]\u001B[0m \u001B[1;33m=\u001B[0m \u001B[0mdf\u001B[0m\u001B[1;33m.\u001B[0m\u001B[0mdatetime\u001B[0m\u001B[1;33m.\u001B[0m\u001B[0mapply\u001B[0m\u001B[1;33m(\u001B[0m\u001B[1;32mlambda\u001B[0m \u001B[0mx\u001B[0m\u001B[1;33m:\u001B[0m\u001B[0mx\u001B[0m\u001B[1;33m[\u001B[0m\u001B[1;33m:\u001B[0m\u001B[1;36m8\u001B[0m\u001B[1;33m]\u001B[0m\u001B[1;33m)\u001B[0m\u001B[1;33m\u001B[0m\u001B[1;33m\u001B[0m\u001B[0m\n\u001B[0m\u001B[0;32m    259\u001B[0m         \u001B[0mdf\u001B[0m\u001B[1;33m=\u001B[0m\u001B[0mdf\u001B[0m\u001B[1;33m.\u001B[0m\u001B[0mset_index\u001B[0m\u001B[1;33m(\u001B[0m\u001B[1;34m'trade_date'\u001B[0m\u001B[1;33m)\u001B[0m\u001B[1;33m\u001B[0m\u001B[1;33m\u001B[0m\u001B[0m\n\u001B[0;32m    260\u001B[0m         \u001B[1;31m#绘制K线图\u001B[0m\u001B[1;33m\u001B[0m\u001B[1;33m\u001B[0m\u001B[1;33m\u001B[0m\u001B[0m\n",
      "\u001B[1;31mTypeError\u001B[0m: 'int' object is not subscriptable"
     ]
    }
   ],
   "source": [
    "MarketView.kline('000001.XSHE')"
   ]
  },
  {
   "cell_type": "code",
   "execution_count": null,
   "metadata": {},
   "outputs": [],
   "source": []
  }
 ],
 "metadata": {
  "kernelspec": {
   "name": "python3",
   "display_name": "Python 3.9.5 64-bit"
  },
  "language_info": {
   "codemirror_mode": {
    "name": "ipython",
    "version": 3
   },
   "file_extension": ".py",
   "mimetype": "text/x-python",
   "name": "python",
   "nbconvert_exporter": "python",
   "pygments_lexer": "ipython3",
   "version": "3.9.5"
  },
  "interpreter": {
   "hash": "3d05fc712bc0e204e3991714841d53d54515fda6d2010ec2e962f3364b241162"
  }
 },
 "nbformat": 4,
 "nbformat_minor": 5
}