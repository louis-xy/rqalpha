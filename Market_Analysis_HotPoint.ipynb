{
 "metadata": {
  "language_info": {
   "codemirror_mode": {
    "name": "ipython",
    "version": 3
   },
   "file_extension": ".py",
   "mimetype": "text/x-python",
   "name": "python",
   "nbconvert_exporter": "python",
   "pygments_lexer": "ipython3",
   "version": "3.9.5"
  },
  "orig_nbformat": 4,
  "kernelspec": {
   "name": "python3",
   "display_name": "Python 3.9.5 64-bit"
  },
  "interpreter": {
   "hash": "3d05fc712bc0e204e3991714841d53d54515fda6d2010ec2e962f3364b241162"
  }
 },
 "nbformat": 4,
 "nbformat_minor": 2,
 "cells": [
  {
   "cell_type": "code",
   "execution_count": 1,
   "metadata": {},
   "outputs": [
    {
     "output_type": "display_data",
     "data": {
      "text/plain": "<IPython.core.display.HTML object>",
      "text/html": "<button onclick=\"$('.input, .prompt, .output_stderr, .output_error, .output_result').toggle();\">隐藏/显示代码</button>\n"
     },
     "metadata": {}
    }
   ],
   "source": [
    "%%HTML\n",
    "<button onclick=\"$('.input, .prompt, .output_stderr, .output_error, .output_result').toggle();\">隐藏/显示代码</button>"
   ]
  },
  {
   "cell_type": "code",
   "execution_count": 2,
   "metadata": {},
   "outputs": [],
   "source": [
    "# 标签系统\n",
    "## 目标函数,1日收益率 3日收益率 5日收益率，10日收益率\n",
    "## 函数功能 目标排序大于阈值的股票，标签按收益率累加权重,绘制标签云图"
   ]
  },
  {
   "cell_type": "code",
   "execution_count": 5,
   "metadata": {},
   "outputs": [
    {
     "output_type": "stream",
     "name": "stdout",
     "text": [
      "Requirement already satisfied: pyecharts==1.8.1 in c:\\users\\louis.xu\\appdata\\roaming\\python\\python39\\site-packages (1.8.1)Note: you may need to restart the kernel to use updated packages.\n",
      "\n",
      "WARNING: You are using pip version 21.1.1; however, version 21.1.2 is available.\n",
      "You should consider upgrading via the 'C:\\Users\\louis.xu\\AppData\\Local\\Programs\\Python\\Python39\\python.exe -m pip install --upgrade pip' command.\n",
      "Requirement already satisfied: simplejson in c:\\users\\louis.xu\\appdata\\local\\programs\\python\\python39\\lib\\site-packages (from pyecharts==1.8.1) (3.17.2)\n",
      "Requirement already satisfied: jinja2 in c:\\users\\louis.xu\\appdata\\local\\programs\\python\\python39\\lib\\site-packages (from pyecharts==1.8.1) (2.11.3)\n",
      "Requirement already satisfied: prettytable in c:\\users\\louis.xu\\appdata\\roaming\\python\\python39\\site-packages (from pyecharts==1.8.1) (2.1.0)\n",
      "Requirement already satisfied: MarkupSafe>=0.23 in c:\\users\\louis.xu\\appdata\\local\\programs\\python\\python39\\lib\\site-packages (from jinja2->pyecharts==1.8.1) (1.1.1)\n",
      "Requirement already satisfied: wcwidth in c:\\users\\louis.xu\\appdata\\local\\programs\\python\\python39\\lib\\site-packages (from prettytable->pyecharts==1.8.1) (0.2.5)\n"
     ]
    }
   ],
   "source": [
    "!pip install pyecharts==1.8.1 --user"
   ]
  },
  {
   "cell_type": "code",
   "execution_count": 3,
   "metadata": {},
   "outputs": [],
   "source": [
    "from __future__ import print_function\n",
    "from ipywidgets import interact, interactive, fixed, interact_manual\n",
    "import ipywidgets as widgets\n",
    "import datetime as dt\n",
    "out=widgets.Output()\n",
    "import warnings\n",
    "warnings.filterwarnings('ignore')\n",
    "import pyecharts.globals as g\n",
    "g.WarningType.ShowWarning=False"
   ]
  },
  {
   "cell_type": "code",
   "execution_count": 19,
   "metadata": {},
   "outputs": [],
   "source": [
    "sys.path.append(\"/Users/louis/Pycharm/rqalpha/\")\n",
    "\n",
    "from rqalpha.data.bar_dict_price_board import BarDictPriceBoard\n",
    "from rqalpha.data.base_data_source import BaseDataSource\n",
    "from rqalpha.data.data_proxy import DataProxy\n",
    "from rqalpha.environment import Environment\n",
    "\n",
    "env = Environment({})\n",
    "env.trading_dt = dt.datetime.now()\n",
    "data_proxy = DataProxy(BaseDataSource(\"C:/Users/louis.xu/.rqalpha/bundle\", {}), BarDictPriceBoard)"
   ]
  },
  {
   "cell_type": "code",
   "execution_count": 20,
   "metadata": {},
   "outputs": [
    {
     "output_type": "execute_result",
     "data": {
      "text/plain": [
       "code=Materials, sector_code_name=原材料, industry_code=C26, industry_name=化学原料及化学制品制造业, concept_names=None, board_type=MainBoard, status=Active, special_type=Normal, contract_multiplier=1, margin_rate=1, underlying_order_book_id=None, underlying_symbol=None, maturity_date=None, settlement_method=None, listing=True, listed=True, de_listed=False, account_type=STOCK, trading_hours=[TimeRange(start=datetime.time(9, 31), end=datetime.time(11, 30)), TimeRange(start=datetime.time(13, 1), end=datetime.time(15, 0))], trade_at_night=False),\n",
       " Instrument(order_book_id=002456.XSHE, symbol=欧菲光, round_lot=100, listed_date=2010-08-03 00:00:00, de_listed_date=2999-12-31 00:00:00, type=CS, exchange=XSHE, market_tplus=1, sector_code=InformationTechnology, sector_code_name=信息技术, industry_code=C39, industry_name=计算机、通信和其他电子设备制造业, concept_names=None, board_type=MainBoard, status=Active, special_type=Normal, contract_multiplier=1, margin_rate=1, underlying_order_book_id=None, underlying_symbol=None, maturity_date=None, settlement_method=None, listing=True, listed=True, de_listed=False, account_type=STOCK, trading_hours=[TimeRange(start=datetime.time(9, 31), end=datetime.time(11, 30)), TimeRange(start=datetime.time(13, 1), end=datetime.time(15, 0))], trade_at_night=False),\n",
       " Instrument(order_book_id=002457.XSHE, symbol=青龙管业, round_lot=100, listed_date=2010-08-03 00:00:00, de_listed_date=2999-12-31 00:00:00, type=CS, exchange=XSHE, market_tplus=1, sector_code=Industrials, sector_code_name=工业, industry_code=C30, industry_name=非金属矿物制品业, concept_names=None, board_type=MainBoard, status=Active, special_type=Normal, contract_multiplier=1, margin_rate=1, underlying_order_book_id=None, underlying_symbol=None, maturity_date=None, settlement_method=None, listing=True, listed=True, de_listed=False, account_type=STOCK, trading_hours=[TimeRange(start=datetime.time(9, 31), end=datetime.time(11, 30)), TimeRange(start=datetime.time(13, 1), end=datetime.time(15, 0))], trade_at_night=False),\n",
       " Instrument(order_book_id=002458.XSHE, symbol=益生股份, round_lot=100, listed_date=2010-08-10 00:00:00, de_listed_date=2999-12-31 00:00:00, type=CS, exchange=XSHE, market_tplus=1, sector_code=ConsumerStaples, sector_code_name=必需消费品, industry_code=A03, industry_name=畜牧业, concept_names=None, board_type=MainBoard, status=Active, special_type=Normal, contract_multiplier=1, margin_rate=1, underlying_order_book_id=None, underlying_symbol=None, maturity_date=None, settlement_method=None, listing=True, listed=True, de_listed=False, account_type=STOCK, trading_hours=[TimeRange(start=datetime.time(9, 31), end=datetime.time(11, 30)), TimeRange(start=datetime.time(13, 1), end=datetime.time(15, 0))], trade_at_night=False),\n",
       " Instrument(order_book_id=002459.XSHE, symbol=晶澳科技, round_lot=100, listed_date=2010-08-10 00:00:00, de_listed_date=2999-12-31 00:00:00, type=CS, exchange=XSHE, market_tplus=1, sector_code=InformationTechnology, sector_code_name=信息技术, industry_code=C38, industry_name=电气机械和器材制造业, concept_names=None, board_type=MainBoard, status=Active, special_type=Normal, contract_multiplier=1, margin_rate=1, underlying_order_book_id=None, underlying_symbol=None, maturity_date=None, settlement_method=None, listing=True, listed=True, de_listed=False, account_type=STOCK, trading_hours=[TimeRange(start=datetime.time(9, 31), end=datetime.time(11, 30)), TimeRange(start=datetime.time(13, 1), end=datetime.time(15, 0))], trade_at_night=False),\n",
       " Instrument(order_book_id=002460.XSHE, symbol=赣锋锂业, round_lot=100, listed_date=2010-08-10 00:00:00, de_listed_date=2999-12-31 00:00:00, type=CS, exchange=XSHE, market_tplus=1, sector_code=Materials, sector_code_name=原材料, industry_code=C32, industry_name=有色金属冶炼和压延加工业, concept_names=None, board_type=MainBoard, status=Active, special_type=Normal, contract_multiplier=1, margin_rate=1, underlying_order_book_id=None, underlying_symbol=None, maturity_date=None, settlement_method=None, listing=True, listed=True, de_listed=False, account_type=STOCK, trading_hours=[TimeRange(start=datetime.time(9, 31), end=datetime.time(11, 30)), TimeRange(start=datetime.time(13, 1), end=datetime.time(15, 0))], trade_at_night=False),\n",
       " Instrument(order_book_id=002461.XSHE, symbol=珠江啤酒, round_lot=100, listed_date=2010-08-18 00:00:00, de_listed_date=2999-12-31 00:00:00, type=CS, exchange=XSHE, market_tplus=1, sector_code=ConsumerStaples, sector_code_name=必需消费品, industry_code=C15, industry_name=酒、饮料和精制茶制造业, concept_names=None, board_type=MainBoard, status=Active, special_type=Normal, contract_multiplier=1, margin_rate=1, underlying_order_book_id=None, underlying_symbol=None, maturity_date=None, settlement_method=None, listing=True, listed=True, de_listed=False, account_type=STOCK, trading_hours=[TimeRange(start=datetime.time(9, 31), end=datetime.time(11, 30)), TimeRange(start=datetime.time(13, 1), end=datetime.time(15, 0))], trade_at_night=False),\n",
       " Instrument(order_book_id=002462.XSHE, symbol=嘉事堂, round_lot=100, listed_date=2010-08-18 00:00:00, de_listed_date=2999-12-31 00:00:00, type=CS, exchange=XSHE, market_tplus=1, sector_code=HealthCare, sector_code_name=医疗保健, industry_code=F51, industry_name=批发业, concept_names=None, board_type=MainBoard, status=Active, special_type=Normal, contract_multiplier=1, margin_rate=1, underlying_order_book_id=None, underlying_symbol=None, maturity_date=None, settlement_method=None, listing=True, listed=True, de_listed=False, account_type=STOCK, trading_hours=[TimeRange(start=datetime.time(9, 31), end=datetime.time(11, 30)), TimeRange(start=datetime.time(13, 1), end=datetime.time(15, 0))], trade_at_night=False),\n",
       " Instrument(order_book_id=002463.XSHE, symbol=沪电股份, round_lot=100, listed_date=2010-08-18 00:00:00, de_listed_date=2999-12-31 00:00:00, type=CS, exchange=XSHE, market_tplus=1, sector_code=InformationTechnology, sector_code_name=信息技术, industry_code=C39, industry_name=计算机、通信和其他电子设备制造业, concept_names=None, board_type=MainBoard, status=Active, special_type=Normal, contract_multiplier=1, margin_rate=1, underlying_order_book_id=None, underlying_symbol=None, maturity_date=None, settlement_method=None, listing=True, listed=True, de_listed=False, account_type=STOCK, trading_hours=[TimeRange(start=datetime.time(9, 31), end=datetime.time(11, 30)), TimeRange(start=datetime.time(13, 1), end=datetime.time(15, 0))], trade_at_night=False),\n",
       " Instrument(order_book_id=002464.XSHE, symbol=*ST众应, round_lot=100, listed_date=2010-08-31 00:00:00, de_listed_date=2999-12-31 00:00:00, type=CS, exchange=XSHE, market_tplus=1, sector_code=InformationTechnology, sector_code_name=信息技术, industry_code=I64, industry_name=互联网和相关服务, concept_names=None, board_type=MainBoard, status=Active, special_type=StarST, contract_multiplier=1, margin_rate=1, underlying_order_book_id=None, underlying_symbol=None, maturity_date=None, settlement_method=None, listing=True, listed=True, de_listed=False, account_type=STOCK, trading_hours=[TimeRange(start=datetime.time(9, 31), end=datetime.time(11, 30)), TimeRange(start=datetime.time(13, 1), end=datetime.time(15, 0))], trade_at_night=False),\n",
       " Instrument(order_book_id=002465.XSHE, symbol=海格通信, round_lot=100, listed_date=2010-08-31 00:00:00, de_listed_date=2999-12-31 00:00:00, type=CS, exchange=XSHE, market_tplus=1, sector_code=InformationTechnology, sector_code_name=信息技术, industry_code=C39, industry_name=计算机、通信和其他电子设备制造业, concept_names=None, board_type=MainBoard, status=Active, special_type=Normal, contract_multiplier=1, margin_rate=1, underlying_order_book_id=None, underlying_symbol=None, maturity_date=None, settlement_method=None, listing=True, listed=True, de_listed=False, account_type=STOCK, trading_hours=[TimeRange(start=datetime.time(9, 31), end=datetime.time(11, 30)), TimeRange(start=datetime.time(13, 1), end=datetime.time(15, 0))], trade_at_night=False),\n",
       " Instrument(order_book_id=002466.XSHE, symbol=天齐锂业, round_lot=100, listed_date=2010-08-31 00:00:00, de_listed_date=2999-12-31 00:00:00, type=CS, exchange=XSHE, market_tplus=1, sector_code=Materials, sector_code_name=原材料, industry_code=C32, industry_name=有色金属冶炼和压延加工业, concept_names=None, board_type=MainBoard, status=Active, special_type=Normal, contract_multiplier=1, margin_rate=1, underlying_order_book_id=None, underlying_symbol=None, maturity_date=None, settlement_method=None, listing=True, listed=True, de_listed=False, account_type=STOCK, trading_hours=[TimeRange(start=datetime.time(9, 31), end=datetime.time(11, 30)), TimeRange(start=datetime.time(13, 1), end=datetime.time(15, 0))], trade_at_night=False),\n",
       " Instrument(order_book_id=002467.XSHE, symbol=二六三, round_lot=100, listed_date=2010-09-08 00:00:00, de_listed_date=2999-12-31 00:00:00, type=CS, exchange=XSHE, market_tplus=1, sector_code=TelecommunicationServices, sector_code_name=电信服务, industry_code=I64, industry_name=互联网和相关服务, concept_names=None, board_type=MainBoard, status=Active, special_type=Normal, contract_multiplier=1, margin_rate=1, underlying_order_book_id=None, underlying_symbol=None, maturity_date=None, settlement_method=None, listing=True, listed=True, de_listed=False, account_type=STOCK, trading_hours=[TimeRange(start=datetime.time(9, 31), end=datetime.time(11, 30)), TimeRange(start=datetime.time(13, 1), end=datetime.time(15, 0))], trade_at_night=False),\n",
       " Instrument(order_book_id=002468.XSHE, symbol=申通快递, round_lot=100, listed_date=2010-09-08 00:00:00, de_listed_date=2999-12-31 00:00:00, type=CS, exchange=XSHE, market_tplus=1, sector_code=Industrials, sector_code_name=工业, industry_code=G60, industry_name=邮政业, concept_names=None, board_type=MainBoard, status=Active, special_type=Normal, contract_multiplier=1, margin_rate=1, underlying_order_book_id=None, underlying_symbol=None, maturity_date=None, settlement_method=None, listing=True, listed=True, de_listed=False, account_type=STOCK, trading_hours=[TimeRange(start=datetime.time(9, 31), end=datetime.time(11, 30)), TimeRange(start=datetime.time(13, 1), end=datetime.time(15, 0))], trade_at_night=False),\n",
       " Instrument(order_book_id=002469.XSHE, symbol=三维化学, round_lot=100, listed_date=2010-09-08 00:00:00, de_listed_date=2999-12-31 00:00:00, type=CS, exchange=XSHE, market_tplus=1, sector_code=Industrials, sector_code_name=工业, industry_code=C26, industry_name=化学原料及化学制品制造业, concept_names=None, board_type=MainBoard, status=Active, special_type=Normal, contract_multiplier=1, margin_rate=1, underlying_order_book_id=None, underlying_symbol=None, maturity_date=None, settlement_method=None, listing=True, listed=True, de_listed=False, account_type=STOCK, trading_hours=[TimeRange(start=datetime.time(9, 31), end=datetime.time(11, 30)), TimeRange(start=datetime.time(13, 1), end=datetime.time(15, 0))], trade_at_night=False),\n",
       " Instrument(order_book_id=002470.XSHE, symbol=*ST金正, round_lot=100, listed_date=2010-09-08 00:00:00, de_listed_date=2999-12-31 00:00:00, type=CS, exchange=XSHE, market_tplus=1, sector_code=Materials, sector_code_name=原材料, industry_code=C26, industry_name=化学原料及化学制品制造业, concept_names=None, board_type=MainBoard, status=Active, special_type=StarST, contract_multiplier=1, margin_rate=1, underlying_order_book_id=None, underlying_symbol=None, maturity_date=None, settlement_method=None, listing=True, listed=True, de_listed=False, account_type=STOCK, trading_hours=[TimeRange(start=datetime.time(9, 31), end=datetime.time(11, 30)), TimeRange(start=datetime.time(13, 1), end=datetime.time(15, 0))], trade_at_night=False),\n",
       " Instrument(order_book_id=002471.XSHE, symbol=中超控股, round_lot=100, listed_date=2010-09-10 00:00:00, de_listed_date=2999-12-31 00:00:00, type=CS, exchange=XSHE, market_tplus=1, sector_code=Industrials, sector_code_name=工业, industry_code=C38, industry_name=电气机械和器材制造业, concept_names=None, board_type=MainBoard, status=Active, special_type=Normal, contract_multiplier=1, margin_rate=1, underlying_order_book_id=None, underlying_symbol=None, maturity_date=None, settlement_method=None, listing=True, listed=True, de_listed=False, account_type=STOCK, trading_hours=[TimeRange(start=datetime.time(9, 31), end=datetime.time(11, 30)), TimeRange(start=datetime.time(13, 1), end=datetime.time(15, 0))], trade_at_night=False),\n",
       " Instrument(order_book_id=002472.XSHE, symbol=双环传动, round_lot=100, listed_date=2010-09-10 00:00:00, de_listed_date=2999-12-31 00:00:00, type=CS, exchange=XSHE, market_tplus=1, sector_code=ConsumerDiscretionary, sector_code_name=非必须消费品, industry_code=C34, industry_name=通用设备制造业, concept_names=None, board_type=MainBoard, status=Active, special_type=Normal, contract_multiplier=1, margin_rate=1, underlying_order_book_id=None, underlying_symbol=None, maturity_date=None, settlement_method=None, listing=True, listed=True, de_listed=False, account_type=STOCK, trading_hours=[TimeRange(start=datetime.time(9, 31), end=datetime.time(11, 30)), TimeRange(start=datetime.time(13, 1), end=datetime.time(15, 0))], trade_at_night=False),\n",
       " Instrument(order_book_id=002473.XSHE, symbol=*ST圣莱, round_lot=100, listed_date=2010-09-10 00:00:00, de_listed_date=2999-12-31 00:00:00, type=CS, exchange=XSHE, market_tplus=1, sector_code=ConsumerDiscretionary, sector_code_name=非必须消费品, industry_code=C38, industry_name=电气机械和器材制造业, concept_names=None, board_type=MainBoard, status=Active, special_type=StarST, contract_multiplier=1, margin_rate=1, underlying_order_book_id=None, underlying_symbol=None, maturity_date=None, settlement_method=None, listing=True, listed=True, de_listed=False, account_type=STOCK, trading_hours=[TimeRange(start=datetime.time(9, 31), end=datetime.time(11, 30)), TimeRange(start=datetime.time(13, 1), end=datetime.time(15, 0))], trade_at_night=False),\n",
       " Instrument(order_book_id=002474.XSHE, symbol=榕基软件, round_lot=100, listed_date=2010-09-15 00:00:00, de_listed_date=2999-12-31 00:00:00, type=CS, exchange=XSHE, market_tplus=1, sector_code=InformationTechnology, sector_code_name=信息技术, industry_code=I65, industry_name=软件和信息技术服务业, concept_names=None, board_type=MainBoard, status=Active, special_type=Normal, contract_multiplier=1, margin_rate=1, underlying_order_book_id=None, underlying_symbol=None, maturity_date=None, settlement_method=None, listing=True, listed=True, de_listed=False, account_type=STOCK, trading_hours=[TimeRange(start=datetime.time(9, 31), end=datetime.time(11, 30)), TimeRange(start=datetime.time(13, 1), end=datetime.time(15, 0))], trade_at_night=False),\n",
       " Instrument(order_book_id=002475.XSHE, symbol=立讯精密, round_lot=100, listed_date=2010-09-15 00:00:00, de_listed_date=2999-12-31 00:00:00, type=CS, exchange=XSHE, market_tplus=1, sector_code=InformationTechnology, sector_code_name=信息技术, industry_code=C39, industry_name=计算机、通信和其他电子设备制造业, concept_names=None, board_type=MainBoard, status=Active, special_type=Normal, contract_multiplier=1, margin_rate=1, underlying_order_book_id=None, underlying_symbol=None, maturity_date=None, settlement_method=None, listing=True, listed=True, de_listed=False, account_type=STOCK, trading_hours=[TimeRange(start=datetime.time(9, 31), end=datetime.time(11, 30)), TimeRange(start=datetime.time(13, 1), end=datetime.time(15, 0))], trade_at_night=False),\n",
       " Instrument(order_book_id=002476.XSHE, symbol=宝莫股份, round_lot=100, listed_date=2010-09-15 00:00:00, de_listed_date=2999-12-31 00:00:00, type=CS, exchange=XSHE, market_tplus=1, sector_code=Materials, sector_code_name=原材料, industry_code=C26, industry_name=化学原料及化学制品制造业, concept_names=None, board_type=MainBoard, status=Active, special_type=Normal, contract_multiplier=1, margin_rate=1, underlying_order_book_id=None, underlying_symbol=None, maturity_date=None, settlement_method=None, listing=True, listed=True, de_listed=False, account_type=STOCK, trading_hours=[TimeRange(start=datetime.time(9, 31), end=datetime.time(11, 30)), TimeRange(start=datetime.time(13, 1), end=datetime.time(15, 0))], trade_at_night=False),\n",
       " Instrument(order_book_id=002477.XSHE, symbol=雏鹰退, round_lot=100, listed_date=2010-09-15 00:00:00, de_listed_date=2019-10-16 00:00:00, type=CS, exchange=XSHE, market_tplus=1, sector_code=null, sector_code_name=null, industry_code=Unknown, industry_name=未知, concept_names=None, board_type=MainBoard, status=Delisted, special_type=Other, contract_multiplier=1, margin_rate=1, underlying_order_book_id=None, underlying_symbol=None, maturity_date=None, settlement_method=None, listing=False, listed=True, de_listed=True, account_type=STOCK, trading_hours=[TimeRange(start=datetime.time(9, 31), end=datetime.time(11, 30)), TimeRange(start=datetime.time(13, 1), end=datetime.time(15, 0))], trade_at_night=False),\n",
       " Instrument(order_book_id=002478.XSHE, symbol=常宝股份, round_lot=100, listed_date=2010-09-21 00:00:00, de_listed_date=2999-12-31 00:00:00, type=CS, exchange=XSHE, market_tplus=1, sector_code=Materials, sector_code_name=原材料, industry_code=C33, industry_name=金属制品业, concept_names=None, board_type=MainBoard, status=Active, special_type=Normal, contract_multiplier=1, margin_rate=1, underlying_order_book_id=None, underlying_symbol=None, maturity_date=None, settlement_method=None, listing=True, listed=True, de_listed=False, account_type=STOCK, trading_hours=[TimeRange(start=datetime.time(9, 31), end=datetime.time(11, 30)), TimeRange(start=datetime.time(13, 1), end=datetime.time(15, 0))], trade_at_night=False),\n",
       " Instrument(order_book_id=002479.XSHE, symbol=富春环保, round_lot=100, listed_date=2010-09-21 00:00:00, de_listed_date=2999-12-31 00:00:00, type=CS, exchange=XSHE, market_tplus=1, sector_code=Utilities, sector_code_name=公用事业, industry_code=D44, industry_name=电力、热力生产和供应业, concept_names=None, board_type=MainBoard, status=Active, special_type=Normal, contract_multiplier=1, margin_rate=1, underlying_order_book_id=None, underlying_symbol=None, maturity_date=None, settlement_method=None, listing=True, listed=True, de_listed=False, account_type=STOCK, trading_hours=[TimeRange(start=datetime.time(9, 31), end=datetime.time(11, 30)), TimeRange(start=datetime.time(13, 1), end=datetime.time(15, 0))], trade_at_night=False),\n",
       " Instrument(order_book_id=002480.XSHE, symbol=新筑股份, round_lot=100, listed_date=2010-09-21 00:00:00, de_listed_date=2999-12-31 00:00:00, type=CS, exchange=XSHE, market_tplus=1, sector_code=Industrials, sector_code_name=工业, industry_code=C34, industry_name=通用设备制造业, concept_names=None, board_type=MainBoard, status=Active, special_type=Normal, contract_multiplier=1, margin_rate=1, underlying_order_book_id=None, underlying_symbol=None, maturity_date=None, settlement_method=None, listing=True, listed=True, de_listed=False, account_type=STOCK, trading_hours=[TimeRange(start=datetime.time(9, 31), end=datetime.time(11, 30)), TimeRange(start=datetime.time(13, 1), end=datetime.time(15, 0))], trade_at_night=False),\n",
       " Instrument(order_book_id=002481.XSHE, symbol=双塔食品, round_lot=100, listed_date=2010-09-21 00:00:00, de_listed_date=2999-12-31 00:00:00, type=CS, exchange=XSHE, market_tplus=1, sector_code=ConsumerStaples, sector_code_name=必需消费品, industry_code=C14, industry_name=食品制造业, concept_names=None, board_type=MainBoard, status=Active, special_type=Normal, contract_multiplier=1, margin_rate=1, underlying_order_book_id=None, underlying_symbol=None, maturity_date=None, settlement_method=None, listing=True, listed=True, de_listed=False, account_type=STOCK, trading_hours=[TimeRange(start=datetime.time(9, 31), end=datetime.time(11, 30)), TimeRange(start=datetime.time(13, 1), end=datetime.time(15, 0))], trade_at_night=False),\n",
       " Instrument(order_book_id=002482.XSHE, symbol=广田集团, round_lot=100, listed_date=2010-09-29 00:00:00, de_listed_date=2999-12-31 00:00:00, type=CS, exchange=XSHE, market_tplus=1, sector_code=Industrials, sector_code_name=工业, industry_code=E50, industry_name=建筑装饰和其他建筑业, concept_names=None, board_type=MainBoard, status=Active, special_type=Normal, contract_multiplier=1, margin_rate=1, underlying_order_book_id=None, underlying_symbol=None, maturity_date=None, settlement_method=None, listing=True, listed=True, de_listed=False, account_type=STOCK, trading_hours=[TimeRange(start=datetime.time(9, 31), end=datetime.time(11, 30)), TimeRange(start=datetime.time(13, 1), end=datetime.time(15, 0))], trade_at_night=False),\n",
       " ...]"
      ]
     },
     "metadata": {},
     "execution_count": 20
    }
   ],
   "source": [
    "data_proxy.all_instruments([\"CS\"])\n"
   ]
  },
  {
   "cell_type": "code",
   "execution_count": 4,
   "metadata": {},
   "outputs": [],
   "source": [
    "import pyecharts.options as opts\n",
    "from pyecharts.charts import WordCloud\n",
    "\n",
    "\n",
    "class Tags:\n",
    "    def __init__(self,date):\n",
    "        self.df_pivot = get_all_securities(date=date)\n",
    "        self.date = date\n",
    "        self.code_tags={code:set() for code in self.df_pivot.index}\n",
    "        self.tag_codes={}\n",
    "        self.calc_return()\n",
    "\n",
    "    def add_series(self,name,series):\n",
    "        \"\"\"\n",
    "        基础数据添加1列\n",
    "        :param name:列名\n",
    "        :param series: 数据\n",
    "        :return:\n",
    "        \"\"\"\n",
    "        self.df_pivot[name]=series\n",
    "        \n",
    "\n",
    "    def add_tag(self,name,codes):\n",
    "        for code in codes:\n",
    "            if code in self.code_tags:\n",
    "                self.code_tags[code].add(name)\n",
    "        self.tag_codes[name]=set(codes)\n",
    "\n",
    "    def add_tag_by_expr(self,name,expr):\n",
    "        \"\"\"\n",
    "        添加标签\n",
    "        :param name:\n",
    "        :param expr:\n",
    "        :return:\n",
    "        \"\"\"\n",
    "        codes=list(self.df_pivot.query(expr).index)\n",
    "        for code in codes:\n",
    "            self.code_tags[code].add(name)\n",
    "        self.tag_codes[name]=set(codes)\n",
    "\n",
    "    def calc_return(self):\n",
    "        \"\"\"\n",
    "        计算指定日期的1,3,5,10日收益率\n",
    "        :return:\n",
    "        \"\"\"\n",
    "        panel=get_price(list(self.df_pivot.index),end_date=self.date,count=11,fields=['close','volume'])\n",
    "        close=panel['close']\n",
    "        volume=panel['volume']\n",
    "        df_vol_5=volume.rolling(5).mean()\n",
    "        self.add_series('return1',(close.iloc[-1]-close.iloc[-2])/close.iloc[-2])\n",
    "        self.add_series('return3',(close.iloc[-1]-close.iloc[-4])/close.iloc[-4])\n",
    "        self.add_series('return5',(close.iloc[-1]-close.iloc[-6])/close.iloc[-6])\n",
    "        self.add_series('return10',(close.iloc[-1]-close.iloc[-11])/close.iloc[-11])\n",
    "        self.add_series('vol1', (df_vol_5.iloc[-1] - df_vol_5.iloc[-2]) / df_vol_5.iloc[-2]*100)\n",
    "        self.add_series('vol3', (df_vol_5.iloc[-1] - df_vol_5.iloc[-4]) / df_vol_5.iloc[-4]*100)\n",
    "        self.add_series('vol5', (df_vol_5.iloc[-1] - df_vol_5.iloc[-6]) / df_vol_5.iloc[-6]*100)\n",
    "        self.add_series('vol10', (df_vol_5.iloc[-1] - df_vol_5.iloc[-11]) / df_vol_5.iloc[-11]*100)\n",
    "\n",
    "    def stat(self,expr=\"return3>0.05\",target_col='return3'):\n",
    "        \"\"\"\n",
    "        统计各tag得分\n",
    "        :param expr: 收益率过滤函数\n",
    "        :param target_col: 权重列\n",
    "        :return:\n",
    "        \"\"\"\n",
    "        df_select=self.df_pivot.query(expr)\n",
    "        all_tags=set()\n",
    "        for codeset in self.code_tags.values():\n",
    "            all_tags=all_tags|codeset\n",
    "        tag_weight={tag:0 for tag in all_tags}\n",
    "        for index,row in df_select.iterrows():\n",
    "            for tag in self.code_tags[index]:\n",
    "                tag_weight[tag]=tag_weight[tag]+row[target_col]\n",
    "        for tag in tag_weight.keys():\n",
    "            tag_weight[tag]=tag_weight[tag]/max(len(self.tag_codes[tag]),5)\n",
    "        return list(tag_weight.items())\n",
    "\n",
    "    def get_stock_from_tag(self,tag):\n",
    "        return self.df_pivot[self.df_pivot.index.isin(list(self.tag_codes[tag]))]\n",
    "        \n",
    "    def wordcloud(self,filter_expr=\"return3>0.05\",sort_col='return3'):\n",
    "        data=self.stat(filter_expr,sort_col)\n",
    "        return WordCloud(init_opts=opts.InitOpts(width='100%', height='600px'))\\\n",
    "        .add(series_name=\"热点概念\", data_pair=data, word_size_range=[8, 100],shape='circle',width='95%',height='550px',rotate_step=5)\\\n",
    "        .set_global_opts(\n",
    "            title_opts=opts.TitleOpts(\n",
    "                title=\"热点概念\", title_textstyle_opts=opts.TextStyleOpts(font_size=23)\n",
    "            ),\n",
    "            tooltip_opts=opts.TooltipOpts(is_show=True),\n",
    "\n",
    "        ).render_notebook()"
   ]
  },
  {
   "cell_type": "code",
   "execution_count": null,
   "metadata": {},
   "outputs": [],
   "source": []
  },
  {
   "cell_type": "code",
   "execution_count": null,
   "metadata": {},
   "outputs": [],
   "source": [
    "from jqdata import *\n",
    "import pandas as pd\n",
    "def all_concepts():\n",
    "    \"\"\"聚源数据所有概念\"\"\"\n",
    "    dfs=[]\n",
    "    min_id=9953668143482\n",
    "    while len(dfs)<30 and min_id>0:\n",
    "        q = query(\n",
    "                jy.LC_COConcept\n",
    "            ).filter(jy.LC_COConcept.IndiState==1,jy.LC_COConcept.ID<min_id).order_by(jy.LC_COConcept.ID.desc())\n",
    "        df = jy.run_query(q)\n",
    "        min_id=df.ID.min()\n",
    "        if len(df)>0:\n",
    "            dfs.append(df)\n",
    "        else:\n",
    "            break\n",
    "    return pd.concat(dfs,ignore_index=True)\n",
    "\n",
    "def stock_concepts():\n",
    "    \"\"\"所有股票的概念列表\"\"\"\n",
    "    q = query(jy.LC_ConceptList.ConceptCode,jy.LC_ConceptList.ConceptName)\n",
    "    dict_concept=jy.run_query(q).set_index('ConceptCode')['ConceptName'].to_dict()\n",
    "    stocks=jy.run_query(query(jy.SecuMain.InnerCode,jy.SecuMain.SecuCode).filter(jy.SecuMain.SecuCategory==1,jy.SecuMain.SecuMarket.in_([83,90]),jy.SecuMain.ListedState.in_([1])))\n",
    "    s_code=stocks.set_index(\"InnerCode\")['SecuCode']\n",
    "    df=all_concepts()\n",
    "    sc=df.groupby('InnerCode').apply(lambda dx:\",\".join([dict_concept[code] for code in dx.ConceptCode.unique()]))\n",
    "    df_concept=pd.DataFrame({\"concept\":sc,'code':s_code})\n",
    "    df_concept['symbol']=df_concept.code.map(normalize_code,na_action='ignore')\n",
    "    return df_concept.dropna().set_index('symbol')['concept']\n",
    "s_concept=stock_concepts()\n",
    "new_df = pd.DataFrame(s_concept.str.split(',').tolist(), index=s_concept.index).stack()\n",
    "new_df=new_df.reset_index([0,'symbol'])\n",
    "new_df.columns=['code','tag']\n",
    "s_tag=new_df.groupby('tag').apply(lambda dx:list(dx['code'].unique()))"
   ]
  },
  {
   "cell_type": "code",
   "execution_count": null,
   "metadata": {},
   "outputs": [],
   "source": [
    "def concept_hot(date,filter_expr='return3>0.05',sort_col='return3'):\n",
    "    tags=Tags(date)\n",
    "    for index, value in s_tag.items():\n",
    "        if '房价上涨' not in index and '昨日涨停' not in index and '资金龙头' not in index:\n",
    "            tags.add_tag(index,value)\n",
    "    return tags.wordcloud(filter_expr=filter_expr,sort_col=sort_col)"
   ]
  },
  {
   "cell_type": "code",
   "execution_count": null,
   "metadata": {},
   "outputs": [],
   "source": [
    "import ipywidgets as widgets\n",
    "out = widgets.Output()\n",
    "\n",
    "date=widgets.DatePicker(\n",
    "    description='选择日期',\n",
    "    disabled=False\n",
    ")\n",
    "def on_value_change(change):\n",
    "    with out:\n",
    "        out.clear_output()\n",
    "        date=change['new']\n",
    "        out.append_display_data(concept_hot(date,filter_expr='return5>0.05',sort_col='return5'))\n",
    "\n",
    "date.observe(on_value_change, names='value')\n",
    "display(date)\n",
    "display(out)"
   ]
  },
  {
   "cell_type": "code",
   "execution_count": null,
   "metadata": {},
   "outputs": [],
   "source": [
    "text=widgets.Text(\n",
    "    value='',\n",
    "    placeholder='概念',\n",
    "    description='概念名称:',\n",
    "    disabled=False\n",
    ")\n",
    "btn=widgets.Button(\n",
    "    description='概念股',\n",
    "    disabled=False,\n",
    "    button_style='', # 'success', 'info', 'warning', 'danger' or ''\n",
    "    tooltip='概念股',\n",
    "    icon='check' # (FontAwesome names without the `fa-` prefix)\n",
    ")\n",
    "hbox=widgets.HBox([text,btn])\n",
    "\n",
    "display(hbox)\n",
    "out1 = widgets.Output()\n",
    "display(out1)\n",
    "\n",
    "df=get_all_securities()\n",
    "\n",
    "def on_button_clicked(b):\n",
    "    with out1:\n",
    "        out1.clear_output()\n",
    "        concept=text.value\n",
    "        df_select=df[df.index.isin(list(s_tag.loc[concept]))]\n",
    "        out1.append_display_data(df_select)\n",
    "btn.on_click(on_button_clicked)"
   ]
  },
  {
   "cell_type": "code",
   "execution_count": 9,
   "metadata": {},
   "outputs": [
    {
     "output_type": "stream",
     "name": "stdout",
     "text": [
      "Requirement already satisfied: pyecharts in c:\\users\\louis.xu\\appdata\\roaming\\python\\python39\\site-packages (1.8.1)Note: you may need to restart the kernel to use updated packages.\n",
      "Requirement already satisfied: jinja2 in c:\\users\\louis.xu\\appdata\\local\\programs\\python\\python39\\lib\\site-packages (from pyecharts) (2.11.3)\n",
      "Requirement already satisfied: prettytable in c:\\users\\louis.xu\\appdata\\roaming\\python\\python39\\site-packages (from pyecharts) (2.1.0)\n",
      "Requirement already satisfied: simplejson in c:\\users\\louis.xu\\appdata\\local\\programs\\python\\python39\\lib\\site-packages (from pyecharts) (3.17.2)\n",
      "Requirement already satisfied: MarkupSafe>=0.23 in c:\\users\\louis.xu\\appdata\\local\\programs\\python\\python39\\lib\\site-packages (from jinja2->pyecharts) (1.1.1)\n",
      "Requirement already satisfied: wcwidth in c:\\users\\louis.xu\\appdata\\local\\programs\\python\\python39\\lib\\site-packages (from prettytable->pyecharts) (0.2.5)\n",
      "\n",
      "WARNING: You are using pip version 21.1.1; however, version 21.1.2 is available.\n",
      "You should consider upgrading via the 'C:\\Users\\louis.xu\\AppData\\Local\\Programs\\Python\\Python39\\python.exe -m pip install --upgrade pip' command.\n"
     ]
    }
   ],
   "source": [
    "!pip install pyecharts"
   ]
  },
  {
   "cell_type": "code",
   "execution_count": null,
   "metadata": {},
   "outputs": [],
   "source": []
  }
 ]
}